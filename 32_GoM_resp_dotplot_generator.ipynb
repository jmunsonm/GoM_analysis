{
 "cells": [
  {
   "cell_type": "code",
   "execution_count": 1,
   "metadata": {},
   "outputs": [
    {
     "name": "stdout",
     "output_type": "stream",
     "text": [
      "/mnt/scgc/simon/microg2p/analyses/20210325_GoM_recluster/20210325_GoM_recluster_analysis/202108_GoM_resp/ already exists.\n",
      "/mnt/scgc/simon/microg2p/analyses/20210325_GoM_recluster/20210325_GoM_recluster_images/202108_GoM_resp_expts already exists.\n"
     ]
    },
    {
     "data": {
      "text/plain": [
       "'3.3.3'"
      ]
     },
     "execution_count": 1,
     "metadata": {},
     "output_type": "execute_result"
    }
   ],
   "source": [
    "import pandas as pd\n",
    "from pandas import DataFrame\n",
    "import os\n",
    "import sys\n",
    "import csv\n",
    "import numpy as np\n",
    "import matplotlib\n",
    "import matplotlib.pyplot as plt\n",
    "plt.show()\n",
    "import glob\n",
    "import seaborn as sns\n",
    "\n",
    "os.chdir('/mnt/scgc/simon/microg2p/analyses/20210325_GoM_recluster/20210325_GoM_recluster_analysis/202108_GoM_resp/')\n",
    "\n",
    "outdir='/mnt/scgc/simon/microg2p/analyses/20210325_GoM_recluster/20210325_GoM_recluster_analysis/202108_GoM_resp/'\n",
    "if os.path.isdir(outdir):\n",
    "    print(outdir, \"already exists.\")\n",
    "else:\n",
    "    os.mkdir(outdir)\n",
    "    print(outdir, \"is created.\")\n",
    "\n",
    "images='/mnt/scgc/simon/microg2p/analyses/20210325_GoM_recluster/20210325_GoM_recluster_images/202108_GoM_resp_expts'\n",
    "if os.path.isdir(images):\n",
    "    print(images, \"already exists.\")\n",
    "else:\n",
    "    os.mkdir(images)\n",
    "    print(images, \"is created.\")\n",
    "    \n",
    "matplotlib.__version__"
   ]
  },
  {
   "cell_type": "code",
   "execution_count": 8,
   "metadata": {},
   "outputs": [
    {
     "data": {
      "text/html": [
       "<div>\n",
       "<style scoped>\n",
       "    .dataframe tbody tr th:only-of-type {\n",
       "        vertical-align: middle;\n",
       "    }\n",
       "\n",
       "    .dataframe tbody tr th {\n",
       "        vertical-align: top;\n",
       "    }\n",
       "\n",
       "    .dataframe thead th {\n",
       "        text-align: right;\n",
       "    }\n",
       "</style>\n",
       "<table border=\"1\" class=\"dataframe\">\n",
       "  <thead>\n",
       "    <tr style=\"text-align: right;\">\n",
       "      <th></th>\n",
       "      <th>name</th>\n",
       "      <th>class</th>\n",
       "    </tr>\n",
       "  </thead>\n",
       "  <tbody>\n",
       "    <tr>\n",
       "      <th>190</th>\n",
       "      <td>AM-377-A01</td>\n",
       "      <td>Alphaproteobacteria</td>\n",
       "    </tr>\n",
       "    <tr>\n",
       "      <th>191</th>\n",
       "      <td>AM-377-A04</td>\n",
       "      <td>Gammaproteobacteria</td>\n",
       "    </tr>\n",
       "    <tr>\n",
       "      <th>192</th>\n",
       "      <td>AM-377-A06</td>\n",
       "      <td>Gammaproteobacteria</td>\n",
       "    </tr>\n",
       "    <tr>\n",
       "      <th>193</th>\n",
       "      <td>AM-377-A07</td>\n",
       "      <td>Alphaproteobacteria</td>\n",
       "    </tr>\n",
       "    <tr>\n",
       "      <th>194</th>\n",
       "      <td>AM-377-A13</td>\n",
       "      <td>Alphaproteobacteria</td>\n",
       "    </tr>\n",
       "    <tr>\n",
       "      <th>...</th>\n",
       "      <td>...</td>\n",
       "      <td>...</td>\n",
       "    </tr>\n",
       "    <tr>\n",
       "      <th>375</th>\n",
       "      <td>AM-377-P13</td>\n",
       "      <td>Bacteroidia</td>\n",
       "    </tr>\n",
       "    <tr>\n",
       "      <th>376</th>\n",
       "      <td>AM-377-P14</td>\n",
       "      <td>Gammaproteobacteria</td>\n",
       "    </tr>\n",
       "    <tr>\n",
       "      <th>377</th>\n",
       "      <td>AM-377-P15</td>\n",
       "      <td>Gammaproteobacteria</td>\n",
       "    </tr>\n",
       "    <tr>\n",
       "      <th>378</th>\n",
       "      <td>AM-377-P17</td>\n",
       "      <td>Verrucomicrobiae</td>\n",
       "    </tr>\n",
       "    <tr>\n",
       "      <th>379</th>\n",
       "      <td>AM-377-P20</td>\n",
       "      <td>Gammaproteobacteria</td>\n",
       "    </tr>\n",
       "  </tbody>\n",
       "</table>\n",
       "<p>190 rows × 2 columns</p>\n",
       "</div>"
      ],
      "text/plain": [
       "           name                class\n",
       "190  AM-377-A01  Alphaproteobacteria\n",
       "191  AM-377-A04  Gammaproteobacteria\n",
       "192  AM-377-A06  Gammaproteobacteria\n",
       "193  AM-377-A07  Alphaproteobacteria\n",
       "194  AM-377-A13  Alphaproteobacteria\n",
       "..          ...                  ...\n",
       "375  AM-377-P13          Bacteroidia\n",
       "376  AM-377-P14  Gammaproteobacteria\n",
       "377  AM-377-P15  Gammaproteobacteria\n",
       "378  AM-377-P17     Verrucomicrobiae\n",
       "379  AM-377-P20  Gammaproteobacteria\n",
       "\n",
       "[190 rows x 2 columns]"
      ]
     },
     "execution_count": 8,
     "metadata": {},
     "output_type": "execute_result"
    }
   ],
   "source": [
    "cols=['name', 'GTDBtk_classification', 'Plate',\t'gate']\n",
    "\n",
    "SAG_df=pd.read_csv('/mnt/scgc/simon/microg2p/analyses/20210325_GoM_recluster/Summary_files/202108_GoM_resp_decon_1cell_SAGs_master_predresp_rate.csv',\n",
    "                   usecols=cols)\n",
    "\n",
    "SAG_df=SAG_df[SAG_df['gate']=='Respiring cells (RSG-positive)']\n",
    "SAG_df[['domain', 'phyla', 'class', 'order', 'family', 'genus', 'species']]=SAG_df.GTDBtk_classification.str.split(';', expand=True)\n",
    "\n",
    "SAG_df=SAG_df.drop(['domain', 'phyla', 'order', 'family', 'genus', 'species'] , axis='columns')\n",
    "SAG_df['class']=SAG_df['class'].str[3:]\n",
    "SAG_df=SAG_df.drop(['GTDBtk_classification', 'gate'], axis='columns')\n",
    "SAG_df['class'].fillna(value='Other')\n",
    "\n",
    "AM375=SAG_df[SAG_df['Plate']=='AM-375']\n",
    "AM375=AM375.drop('Plate', axis='columns')\n",
    "AM375.to_csv('AM375_dotplot.csv', index=False, header=False)\n",
    "\n",
    "\n",
    "AM377=SAG_df[SAG_df['Plate']=='AM-377']\n",
    "AM377=AM377.drop('Plate', axis='columns')\n",
    "AM377.to_csv('AM377_dotplot.csv', index=False, header=False)\n",
    "AM377"
   ]
  },
  {
   "cell_type": "code",
   "execution_count": 9,
   "metadata": {},
   "outputs": [],
   "source": [
    "!cat FACS_header.csv AM377_dotplot.csv > Final_AM_377_dotplot.csv\n",
    "\n",
    "!cat FACS_header.csv AM375_dotplot.csv > Final_AM_375_dotplot.csv\n",
    "\n"
   ]
  },
  {
   "cell_type": "code",
   "execution_count": 36,
   "metadata": {},
   "outputs": [],
   "source": [
    "!cp Final*.csv /mnt/scgc_raw/clarity/dropoff/facs_labeled_plot"
   ]
  },
  {
   "cell_type": "code",
   "execution_count": null,
   "metadata": {},
   "outputs": [],
   "source": []
  }
 ],
 "metadata": {
  "kernelspec": {
   "display_name": "Python 3",
   "language": "python",
   "name": "python3"
  },
  "language_info": {
   "codemirror_mode": {
    "name": "ipython",
    "version": 3
   },
   "file_extension": ".py",
   "mimetype": "text/x-python",
   "name": "python",
   "nbconvert_exporter": "python",
   "pygments_lexer": "ipython3",
   "version": "3.7.3"
  }
 },
 "nbformat": 4,
 "nbformat_minor": 4
}
