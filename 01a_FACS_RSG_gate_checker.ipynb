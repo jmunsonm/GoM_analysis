{
 "cells": [
  {
   "cell_type": "code",
   "execution_count": 3,
   "metadata": {},
   "outputs": [
    {
     "name": "stdout",
     "output_type": "stream",
     "text": [
      "/mnt/scgc/simon/microg2p/analyses/20210325_GoM_recluster/20210325_GoM_recluster_analysis/GoM_RSG_FACS_checker already exists.\n"
     ]
    },
    {
     "data": {
      "text/plain": [
       "'3.3.3'"
      ]
     },
     "execution_count": 3,
     "metadata": {},
     "output_type": "execute_result"
    }
   ],
   "source": [
    "import pandas as pd\n",
    "from pandas import DataFrame\n",
    "import os\n",
    "import sys\n",
    "import csv\n",
    "from pathlib import Path\n",
    "import seaborn as sns\n",
    "sns.set()\n",
    "import numpy as np\n",
    "import matplotlib\n",
    "import matplotlib.pyplot as plt\n",
    "plt.show()\n",
    "from collections import defaultdict\n",
    "import os.path as op\n",
    "import glob\n",
    "\n",
    "# input folder\n",
    "os.chdir('/mnt/scgc/simon/microg2p/analyses/20210325_GoM_recluster/20210325_GoM_recluster_analysis/GoM_RSG_FACS_checker')\n",
    "\n",
    "# folder to save output files will create it if it does not exist\n",
    "outdir=\"/mnt/scgc/simon/microg2p/analyses/20210325_GoM_recluster/20210325_GoM_recluster_analysis/GoM_RSG_FACS_checker\"\n",
    "if os.path.isdir(outdir):\n",
    "    print(outdir, \"already exists.\")\n",
    "else:\n",
    "    os.mkdir(outdir)\n",
    "    print(outdir, \"is created.\")\n",
    "\n",
    "matplotlib.__version__"
   ]
  },
  {
   "cell_type": "markdown",
   "metadata": {},
   "source": [
    "### Description\n",
    "Using the three csv files that contain all the events that passed all of the gates I need to create a new column of \"Passed_Gates\" and then save a csv file with all the SAGs in the summary files folder, and another file of just the ones that passed the gating thresholds. "
   ]
  },
  {
   "cell_type": "code",
   "execution_count": 25,
   "metadata": {},
   "outputs": [
    {
     "name": "stdout",
     "output_type": "stream",
     "text": [
      "FSC\n",
      "SSC\n",
      "(10^(-2.34816+(0.084596*(531_40 [488] * 0.03954 + -0.40012))))\n",
      "*531_40 [488]\n",
      "*572_27 [488]\n",
      "*692_40 [488]\n",
      "TIME\n",
      "Trigger Pulse Width\n"
     ]
    }
   ],
   "source": [
    "SAG_data=pd.read_csv('/mnt/scgc/simon/microg2p/analyses/20210325_GoM_recluster/Summary_files/All_GoM_SAGs_1cell_20kb_decon_531normalized_predresp_rate_GTDBclass.csv',\n",
    "                    index_col=0)\n",
    "\n",
    "SAG_data\n",
    "\n",
    "gate181030=pd.read_csv('/mnt/scgc/simon/microg2p/analyses/20210325_GoM_recluster/20210325_GoM_recluster_analysis/GoM_RSG_FACS_checker/export_CUsersOperatorDesktopFCS Database2018SCGC_2018-10-30AH-545_RS_EBB-Dock_RSG_2018-10-30_001_692 531 Gate.csv')\n",
    "\n",
    "gate190402=pd.read_csv('/mnt/scgc/simon/microg2p/analyses/20210325_GoM_recluster/20210325_GoM_recluster_analysis/GoM_RSG_FACS_checker/export_CUsersOperatorDesktopFCS Database2019SCGC_2019-04-02AH-657_EBB-Dock_2019-04-02_RSG_001_692 531 Gate.csv')\n",
    "\n",
    "gate190709=pd.read_csv('/mnt/scgc/simon/microg2p/analyses/20210325_GoM_recluster/20210325_GoM_recluster_analysis/GoM_RSG_FACS_checker/export_CUsersOperatorDesktopFCS Database2019SCGC_2019-07-09AH-700_EBB-Dock_2019-07-09_RSG_001_692 531 Gate.csv')\n",
    "for col in gate181030:\n",
    "    print(col)"
   ]
  },
  {
   "cell_type": "code",
   "execution_count": 7,
   "metadata": {},
   "outputs": [
    {
     "data": {
      "text/plain": [
       "0          Respiring cells (RSG-positive)\n",
       "1          Respiring cells (RSG-positive)\n",
       "2          Respiring cells (RSG-positive)\n",
       "3          Respiring cells (RSG-positive)\n",
       "4          Respiring cells (RSG-positive)\n",
       "                      ...                \n",
       "5845    All prokaryotes (SYTO-9-positive)\n",
       "5846    All prokaryotes (SYTO-9-positive)\n",
       "5847    All prokaryotes (SYTO-9-positive)\n",
       "5848    All prokaryotes (SYTO-9-positive)\n",
       "5849    All prokaryotes (SYTO-9-positive)\n",
       "Name: gate, Length: 5850, dtype: object"
      ]
     },
     "execution_count": 7,
     "metadata": {},
     "output_type": "execute_result"
    }
   ],
   "source": [
    "SAG_data['gate']"
   ]
  },
  {
   "cell_type": "code",
   "execution_count": 26,
   "metadata": {},
   "outputs": [
    {
     "name": "stdout",
     "output_type": "stream",
     "text": [
      "2\n",
      "name\n",
      "Plate\n",
      "well_type\n",
      "wga_cp\n",
      "wgs_run_id\n",
      "raw_read_count\n",
      "final_assembly_length\n",
      "max_contig_length\n",
      "gc_content\n",
      "checkM_estimated_completeness\n",
      "total_CDS_count\n",
      "hypothetical_cds_fraction\n",
      "average_cds_length\n",
      "number_multi_copy\n",
      "checkM_classification\n",
      "SSU_classification_1\n",
      "SSU_classification_2\n",
      "SSU_classification_3\n",
      "notes\n",
      "eventnum\n",
      "well2\n",
      "*531_40 [488]\n",
      "*572_27 [488]\n",
      "*692_40 [488]\n",
      "Trigger Pulse Width\n",
      "SSC\n",
      "FSC\n",
      "estimated_diameter\n",
      "PCA_analysis_Action\n",
      "PCA_analysis_Note\n",
      "Location\n",
      "Sample_collection_Date\n",
      "FACS_date\n",
      "gate\n",
      "depth..m.\n",
      "sample\n",
      "slope\n",
      "intercept\n",
      "normalized531value\n",
      "Predicted_respiration_rate_fmol_O2perhr\n",
      "lower_resp_bound\n",
      "upper_resp_bound\n",
      "SAG\n",
      "GTDB_classification\n",
      "GTDBtk_classification\n"
     ]
    }
   ],
   "source": [
    "RSG=SAG_data[SAG_data['gate']=='Respiring cells (RSG-positive)']\n",
    "dates=[181030, 190404, 190709]\n",
    "RSG=RSG[RSG['Sample_collection_Date']==RSG['FACS_date']]\n",
    "RSG=RSG[RSG['Sample_collection_Date'].isin(dates)]\n",
    "RSG_1810=RSG[RSG['Sample_collection_Date']==181030]\n",
    "RSG_1810=RSG_1810.rename(columns={'X531.40..488.':'*531_40 [488]', 'X572.27..488.':'*572_27 [488]', \n",
    "                             'X692.40..488.':'*692_40 [488]', 'Trigger.Pulse.Width':'Trigger Pulse Width'})\n",
    "\n",
    "for col in RSG_1810:\n",
    "    print(col)"
   ]
  },
  {
   "cell_type": "code",
   "execution_count": 27,
   "metadata": {},
   "outputs": [
    {
     "data": {
      "text/html": [
       "<div>\n",
       "<style scoped>\n",
       "    .dataframe tbody tr th:only-of-type {\n",
       "        vertical-align: middle;\n",
       "    }\n",
       "\n",
       "    .dataframe tbody tr th {\n",
       "        vertical-align: top;\n",
       "    }\n",
       "\n",
       "    .dataframe thead th {\n",
       "        text-align: right;\n",
       "    }\n",
       "</style>\n",
       "<table border=\"1\" class=\"dataframe\">\n",
       "  <thead>\n",
       "    <tr style=\"text-align: right;\">\n",
       "      <th></th>\n",
       "      <th>2</th>\n",
       "      <th>name</th>\n",
       "      <th>Plate</th>\n",
       "      <th>well_type</th>\n",
       "      <th>wga_cp</th>\n",
       "      <th>wgs_run_id</th>\n",
       "      <th>raw_read_count</th>\n",
       "      <th>final_assembly_length</th>\n",
       "      <th>max_contig_length</th>\n",
       "      <th>gc_content</th>\n",
       "      <th>...</th>\n",
       "      <th>intercept</th>\n",
       "      <th>normalized531value</th>\n",
       "      <th>Predicted_respiration_rate_fmol_O2perhr</th>\n",
       "      <th>lower_resp_bound</th>\n",
       "      <th>upper_resp_bound</th>\n",
       "      <th>SAG</th>\n",
       "      <th>GTDB_classification</th>\n",
       "      <th>GTDBtk_classification</th>\n",
       "      <th>(10^(-2.34816+(0.084596*(531_40 [488] * 0.03954 + -0.40012))))</th>\n",
       "      <th>TIME</th>\n",
       "    </tr>\n",
       "  </thead>\n",
       "  <tbody>\n",
       "  </tbody>\n",
       "</table>\n",
       "<p>0 rows × 48 columns</p>\n",
       "</div>"
      ],
      "text/plain": [
       "Empty DataFrame\n",
       "Columns: [2, name, Plate, well_type, wga_cp, wgs_run_id, raw_read_count, final_assembly_length, max_contig_length, gc_content, checkM_estimated_completeness, total_CDS_count, hypothetical_cds_fraction, average_cds_length, number_multi_copy, checkM_classification, SSU_classification_1, SSU_classification_2, SSU_classification_3, notes, eventnum, well2, *531_40 [488], *572_27 [488], *692_40 [488], Trigger Pulse Width, SSC, FSC, estimated_diameter, PCA_analysis_Action, PCA_analysis_Note, Location, Sample_collection_Date, FACS_date, gate, depth..m., sample, slope, intercept, normalized531value, Predicted_respiration_rate_fmol_O2perhr, lower_resp_bound, upper_resp_bound, SAG, GTDB_classification, GTDBtk_classification, (10^(-2.34816+(0.084596*(531_40 [488] * 0.03954 + -0.40012)))), TIME]\n",
       "Index: []\n",
       "\n",
       "[0 rows x 48 columns]"
      ]
     },
     "execution_count": 27,
     "metadata": {},
     "output_type": "execute_result"
    }
   ],
   "source": [
    "passing_RSG_SAGs=RSG_1810.merge(gate181030, how='inner', on=['*531_40 [488]', '*572_27 [488]', '*692_40 [488]', \n",
    "                                                             'Trigger Pulse Width', 'FSC', 'SSC'])\n",
    "\n",
    "passing_RSG_SAGs"
   ]
  },
  {
   "cell_type": "code",
   "execution_count": 14,
   "metadata": {},
   "outputs": [
    {
     "name": "stdout",
     "output_type": "stream",
     "text": [
      "2\n",
      "name\n",
      "Plate\n",
      "well_type\n",
      "wga_cp\n",
      "wgs_run_id\n",
      "raw_read_count\n",
      "final_assembly_length\n",
      "max_contig_length\n",
      "gc_content\n",
      "checkM_estimated_completeness\n",
      "total_CDS_count\n",
      "hypothetical_cds_fraction\n",
      "average_cds_length\n",
      "number_multi_copy\n",
      "checkM_classification\n",
      "SSU_classification_1\n",
      "SSU_classification_2\n",
      "SSU_classification_3\n",
      "notes\n",
      "eventnum\n",
      "well2\n",
      "X531.40..488.\n",
      "X572.27..488.\n",
      "X692.40..488.\n",
      "Trigger.Pulse.Width\n",
      "SSC\n",
      "FSC\n",
      "estimated_diameter\n",
      "PCA_analysis_Action\n",
      "PCA_analysis_Note\n",
      "Location\n",
      "Sample_collection_Date\n",
      "FACS_date\n",
      "gate\n",
      "depth..m.\n",
      "sample\n",
      "slope\n",
      "intercept\n",
      "normalized531value\n",
      "Predicted_respiration_rate_fmol_O2perhr\n",
      "lower_resp_bound\n",
      "upper_resp_bound\n",
      "SAG\n",
      "GTDB_classification\n",
      "GTDBtk_classification\n"
     ]
    }
   ],
   "source": []
  },
  {
   "cell_type": "code",
   "execution_count": null,
   "metadata": {},
   "outputs": [],
   "source": []
  },
  {
   "cell_type": "code",
   "execution_count": null,
   "metadata": {},
   "outputs": [],
   "source": []
  },
  {
   "cell_type": "code",
   "execution_count": null,
   "metadata": {},
   "outputs": [],
   "source": []
  }
 ],
 "metadata": {
  "kernelspec": {
   "display_name": "Python 3",
   "language": "python",
   "name": "python3"
  },
  "language_info": {
   "codemirror_mode": {
    "name": "ipython",
    "version": 3
   },
   "file_extension": ".py",
   "mimetype": "text/x-python",
   "name": "python",
   "nbconvert_exporter": "python",
   "pygments_lexer": "ipython3",
   "version": "3.6.7"
  }
 },
 "nbformat": 4,
 "nbformat_minor": 4
}
