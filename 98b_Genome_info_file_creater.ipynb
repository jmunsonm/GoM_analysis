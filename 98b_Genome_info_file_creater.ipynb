{
 "cells": [
  {
   "cell_type": "code",
   "execution_count": 1,
   "metadata": {},
   "outputs": [
    {
     "name": "stdout",
     "output_type": "stream",
     "text": [
      "Folder already exists\n"
     ]
    },
    {
     "data": {
      "text/plain": [
       "'3.1.0'"
      ]
     },
     "execution_count": 1,
     "metadata": {},
     "output_type": "execute_result"
    }
   ],
   "source": [
    "import pandas as pd\n",
    "from pandas import DataFrame\n",
    "import os\n",
    "import os.path as op\n",
    "import sys\n",
    "import csv\n",
    "import numpy as np\n",
    "import matplotlib\n",
    "import matplotlib.pyplot as plt\n",
    "plt.show()\n",
    "import glob\n",
    "import seaborn as sns\n",
    "import shutil\n",
    "import networkx as nx\n",
    "\n",
    "# import my custom functions\n",
    "sys.path.insert(0, '/home/jmunson-mcgee/')\n",
    "from JMM_functions import *\n",
    "\n",
    "pd.set_option(\"display.max_rows\", 6)\n",
    "\n",
    "outdir='/mnt/scgc/simon/microg2p/Data/GoM_uploads/'\n",
    "safe_make_dir(outdir)\n",
    "os.chdir(outdir)\n",
    "    \n",
    "matplotlib.__version__"
   ]
  },
  {
   "cell_type": "code",
   "execution_count": null,
   "metadata": {},
   "outputs": [],
   "source": []
  }
 ],
 "metadata": {
  "kernelspec": {
   "display_name": "Jacob",
   "language": "python",
   "name": "jacob"
  },
  "language_info": {
   "codemirror_mode": {
    "name": "ipython",
    "version": 3
   },
   "file_extension": ".py",
   "mimetype": "text/x-python",
   "name": "python",
   "nbconvert_exporter": "python",
   "pygments_lexer": "ipython3",
   "version": "3.7.3"
  }
 },
 "nbformat": 4,
 "nbformat_minor": 4
}
