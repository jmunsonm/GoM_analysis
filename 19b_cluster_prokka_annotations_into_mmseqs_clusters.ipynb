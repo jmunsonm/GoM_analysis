{
 "cells": [
  {
   "cell_type": "code",
   "execution_count": 1,
   "metadata": {},
   "outputs": [
    {
     "name": "stdout",
     "output_type": "stream",
     "text": [
      "/mnt/scgc/simon/microg2p/analyses/20210325_GoM_recluster/20210325_GoM_recluster_analysis/mmseqs/clustering_key already exists.\n",
      "/mnt/scgc/simon/microg2p/analyses/20210325_GoM_recluster/20210325_GoM_recluster_analysis/mmseqs already exists.\n"
     ]
    },
    {
     "data": {
      "text/plain": [
       "'3.3.3'"
      ]
     },
     "execution_count": 1,
     "metadata": {},
     "output_type": "execute_result"
    }
   ],
   "source": [
    "import pandas as pd\n",
    "from pandas import DataFrame\n",
    "import os\n",
    "import sys\n",
    "import csv\n",
    "import numpy as np\n",
    "import matplotlib\n",
    "import matplotlib.pyplot as plt\n",
    "plt.show()\n",
    "import glob\n",
    "import seaborn as sns\n",
    "\n",
    "\n",
    "outdir='/mnt/scgc/simon/microg2p/analyses/20210325_GoM_recluster/20210325_GoM_recluster_analysis/mmseqs/clustering_key'\n",
    "if os.path.isdir(outdir):\n",
    "    print(outdir, \"already exists.\")\n",
    "else:\n",
    "    os.mkdir(outdir)\n",
    "    print(outdir, \"is created.\")\n",
    "\n",
    "os.chdir('/mnt/scgc/simon/microg2p/analyses/20210325_GoM_recluster/20210325_GoM_recluster_analysis/Surface_ocean_SAG_analysis/')    \n",
    "\n",
    "images='/mnt/scgc/simon/microg2p/analyses/20210325_GoM_recluster/20210325_GoM_recluster_analysis/mmseqs'\n",
    "if os.path.isdir(images):\n",
    "    print(images, \"already exists.\")\n",
    "else:\n",
    "    os.mkdir(images)\n",
    "    print(images, \"is created.\")\n",
    "    \n",
    "matplotlib.__version__"
   ]
  },
  {
   "cell_type": "markdown",
   "metadata": {},
   "source": [
    "rerun on 2021-12-07 after correcting for salinity of media samples"
   ]
  },
  {
   "cell_type": "code",
   "execution_count": 2,
   "metadata": {},
   "outputs": [
    {
     "name": "stdout",
     "output_type": "stream",
     "text": [
      "cluster_reference     822264\n",
      "gene                 3664657\n",
      "dtype: int64\n"
     ]
    }
   ],
   "source": [
    "colnames=['cluster_reference', 'gene']\n",
    "\n",
    "index=pd.read_csv('/mnt/scgc/simon/microg2p/analyses/20210325_GoM_recluster/20210325_GoM_recluster_analysis/mmseqs/analyses/GoM_sag_orfs_80minid_m80.tsv', \n",
    "                 sep='\\t', names=colnames, header=None)\n",
    "print(index.nunique())"
   ]
  },
  {
   "cell_type": "code",
   "execution_count": null,
   "metadata": {},
   "outputs": [],
   "source": []
  }
 ],
 "metadata": {
  "kernelspec": {
   "display_name": "Python 3 (ipykernel)",
   "language": "python",
   "name": "python3"
  },
  "language_info": {
   "codemirror_mode": {
    "name": "ipython",
    "version": 3
   },
   "file_extension": ".py",
   "mimetype": "text/x-python",
   "name": "python",
   "nbconvert_exporter": "python",
   "pygments_lexer": "ipython3",
   "version": "3.10.4"
  }
 },
 "nbformat": 4,
 "nbformat_minor": 4
}
