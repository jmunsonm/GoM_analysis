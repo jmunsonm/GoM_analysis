{
 "cells": [
  {
   "cell_type": "code",
   "execution_count": 1,
   "metadata": {},
   "outputs": [
    {
     "ename": "FileNotFoundError",
     "evalue": "[Errno 2] No such file or directory: '/mnt/scgc/simon/microg2p/analyses/20210325_GoM_recluster/20210325_GoM_recluster_analysis/Genus_consensus_16S_sequence/'",
     "output_type": "error",
     "traceback": [
      "\u001b[0;31m---------------------------------------------------------------------------\u001b[0m",
      "\u001b[0;31mFileNotFoundError\u001b[0m                         Traceback (most recent call last)",
      "\u001b[0;32m<ipython-input-1-87bf53c63e85>\u001b[0m in \u001b[0;36m<module>\u001b[0;34m\u001b[0m\n\u001b[1;32m     17\u001b[0m \u001b[0;34m\u001b[0m\u001b[0m\n\u001b[1;32m     18\u001b[0m \u001b[0;34m\u001b[0m\u001b[0m\n\u001b[0;32m---> 19\u001b[0;31m \u001b[0mos\u001b[0m\u001b[0;34m.\u001b[0m\u001b[0mchdir\u001b[0m\u001b[0;34m(\u001b[0m\u001b[0;34m'/mnt/scgc/simon/microg2p/analyses/20210325_GoM_recluster/20210325_GoM_recluster_analysis/Genus_consensus_16S_sequence/'\u001b[0m\u001b[0;34m)\u001b[0m\u001b[0;34m\u001b[0m\u001b[0;34m\u001b[0m\u001b[0m\n\u001b[0m\u001b[1;32m     20\u001b[0m \u001b[0mimages\u001b[0m\u001b[0;34m=\u001b[0m\u001b[0;34m'/mnt/scgc/simon/microg2p/analyses/20210325_GoM_recluster/20210325_GoM_recluster_images/16S_trees/'\u001b[0m\u001b[0;34m\u001b[0m\u001b[0;34m\u001b[0m\u001b[0m\n\u001b[1;32m     21\u001b[0m \u001b[0moutdir\u001b[0m\u001b[0;34m=\u001b[0m\u001b[0;34m(\u001b[0m\u001b[0;34m'/mnt/scgc/simon/microg2p/analyses/20210325_GoM_recluster/20210325_GoM_recluster_analysis/Genus_consensus_16S_sequence/'\u001b[0m\u001b[0;34m)\u001b[0m\u001b[0;34m\u001b[0m\u001b[0;34m\u001b[0m\u001b[0m\n",
      "\u001b[0;31mFileNotFoundError\u001b[0m: [Errno 2] No such file or directory: '/mnt/scgc/simon/microg2p/analyses/20210325_GoM_recluster/20210325_GoM_recluster_analysis/Genus_consensus_16S_sequence/'"
     ]
    }
   ],
   "source": [
    "import pandas as pd\n",
    "from pandas import DataFrame\n",
    "import os\n",
    "import sys\n",
    "import csv\n",
    "from pathlib import Path\n",
    "import seaborn as sns\n",
    "sns.set()\n",
    "import numpy as np\n",
    "import matplotlib\n",
    "import matplotlib.pyplot as plt\n",
    "plt.show()\n",
    "from collections import defaultdict\n",
    "import os.path as op\n",
    "import glob\n",
    "from Bio import SeqIO\n",
    "\n",
    "\n",
    "os.chdir('/mnt/scgc/simon/microg2p/analyses/20210325_GoM_recluster/20210325_GoM_recluster_analysis/Genus_consensus_16S_sequence/')\n",
    "images='/mnt/scgc/simon/microg2p/analyses/20210325_GoM_recluster/20210325_GoM_recluster_images/16S_trees/'\n",
    "outdir=('/mnt/scgc/simon/microg2p/analyses/20210325_GoM_recluster/20210325_GoM_recluster_analysis/Genus_consensus_16S_sequence/')\n",
    "listdir=('/mnt/scgc/simon/microg2p/analyses/20210325_GoM_recluster/20210325_GoM_recluster_analysis/Genus_consensus_16S_sequence/lists/')\n",
    "matplotlib.__version__"
   ]
  },
  {
   "cell_type": "markdown",
   "metadata": {},
   "source": [
    "### NOT rerun on 2021-12-07 after correcting for salinity of media samples"
   ]
  },
  {
   "cell_type": "code",
   "execution_count": null,
   "metadata": {},
   "outputs": [],
   "source": [
    "Genus=pd.read_csv('/mnt/scgc/simon/microg2p/analyses/20210325_GoM_recluster/Summary_files/Genus_statistics.csv', index_col=0)\n",
    "Genus=Genus[Genus['#_of_cells'] >=5]\n",
    "Genus=Genus[Genus['GTDB_genus'] != 'Unclassified']\n",
    "tenSAG=Genus['GTDB_genus'].tolist()\n",
    "tenSAG=np.unique(tenSAG)\n",
    "print(len(tenSAG))"
   ]
  },
  {
   "cell_type": "code",
   "execution_count": null,
   "metadata": {},
   "outputs": [],
   "source": [
    "SAG_data=pd.read_csv('/mnt/scgc/simon/microg2p/analyses/20210325_GoM_recluster/All_GoM_SAGs_1cell_20kb_decon_531normalized_predresp_rate_GTDBclass.csv',\n",
    "                    index_col=0)\n",
    "SAG_data"
   ]
  },
  {
   "cell_type": "code",
   "execution_count": null,
   "metadata": {},
   "outputs": [],
   "source": [
    "#create a fasta file for every genus\n",
    "\n",
    "!rm *.fasta\n",
    "SSU_dir=glob.glob('/mnt/scgc/simon/microg2p/Data/SAGs_WGS/SSUs/GoM_SAG_SSUs/*.fasta')\n",
    "\n",
    "for genus in tenSAG:\n",
    "    df=SAG_data[SAG_data['GTDB_classification'] == genus]\n",
    "    SAGs=df['name'].to_list()\n",
    "\n",
    "    with open(genus+'_SSU_sequences.fasta', 'w') as out:\n",
    "        for i in SAGs:\n",
    "            for infile in SSU_dir:\n",
    "                if i in infile:\n",
    "                    with open(infile, 'r') as infile:\n",
    "                        out.write(infile.read())\n",
    "                \n",
    "         \n"
   ]
  },
  {
   "cell_type": "code",
   "execution_count": null,
   "metadata": {},
   "outputs": [],
   "source": [
    "# sort the 16S sequences long to short\n",
    "!for file in *_SSU_sequences.fasta; do seqkit sort $file -o ${file/%SSU_sequences.fasta/sorted.fasta} -l -r; done\n",
    "\n",
    "# extract just the longest 16S sequence\n",
    "!for file in *sorted.fasta; do awk '/^>/{if(N)exit;++N;} {print;}' $file > ${file/%sorted.fasta/longest16S.fasta}; done\n",
    "\n",
    "#remove the sorted files\n",
    "!rm *sorted.fasta"
   ]
  },
  {
   "cell_type": "code",
   "execution_count": null,
   "metadata": {},
   "outputs": [],
   "source": [
    "# rename the name of the longest sequence so that it is the name of the genus\n",
    "# This helps with future annotations of a tree where I have to refer to the branch length\n",
    "fasta_files=glob.glob('*16S.fasta')\n",
    "\n",
    "for i in fasta_files:\n",
    "    \n",
    "    genus=i.split(\"_lon\")[0]\n",
    "    genus=str(genus)\n",
    "   # print(genus)\n",
    "    fasta_in = open(i)\n",
    "\n",
    "    # Create FASTA output file.\n",
    "    fasta_out = open(genus+'_16Srep.fasta', 'w')\n",
    "\n",
    "    for line in fasta_in.readlines():\n",
    "        if line.startswith('>'):\n",
    "            contig_id = '>' + str(genus) + '\\n'\n",
    " #           print(contig_id)\n",
    "            fasta_out.write(contig_id)\n",
    "        else:\n",
    "            fasta_out.write(line)\n",
    "    fasta_out.close()\n",
    "    fasta_in.close()\n"
   ]
  },
  {
   "cell_type": "code",
   "execution_count": null,
   "metadata": {},
   "outputs": [],
   "source": [
    "# combine all the longest representatives into a single fasta file.\n",
    "\n",
    "!rm Genus_longest_16S_sequence.fasta\n",
    "!rm *longest16S.fasta\n",
    "!cat *16Srep.fasta >> Genus_longest_16S_sequence.fasta\n",
    "!seqkit stats Genus_longest_16S_sequence.fasta"
   ]
  },
  {
   "cell_type": "code",
   "execution_count": null,
   "metadata": {},
   "outputs": [],
   "source": []
  },
  {
   "cell_type": "code",
   "execution_count": null,
   "metadata": {},
   "outputs": [],
   "source": []
  }
 ],
 "metadata": {
  "kernelspec": {
   "display_name": "Python 3",
   "language": "python",
   "name": "python3"
  },
  "language_info": {
   "codemirror_mode": {
    "name": "ipython",
    "version": 3
   },
   "file_extension": ".py",
   "mimetype": "text/x-python",
   "name": "python",
   "nbconvert_exporter": "python",
   "pygments_lexer": "ipython3",
   "version": "3.6.7"
  }
 },
 "nbformat": 4,
 "nbformat_minor": 4
}
