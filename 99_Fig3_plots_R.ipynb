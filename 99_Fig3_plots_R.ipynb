{
 "cells": [
  {
   "cell_type": "code",
   "execution_count": null,
   "metadata": {},
   "outputs": [],
   "source": [
    "library(randomcoloR)\n",
    "library(tidyverse)\n",
    "library(scales)\n",
    "\n",
    "`%notin%` <- Negate(`%in%`)"
   ]
  },
  {
   "cell_type": "code",
   "execution_count": null,
   "metadata": {},
   "outputs": [],
   "source": [
    "setwd(\"/mnt/scgc/simon/microg2p/analyses/20210325_GoM_recluster/20210325_GoM_recluster_images/csv_files_for_figures\")\n"
   ]
  },
  {
   "cell_type": "code",
   "execution_count": null,
   "metadata": {},
   "outputs": [],
   "source": [
    "#read input data\n",
    "mRNA <- read.csv(file=\"Fig3_mRNA_diameter.csv\", header=TRUE, stringsAsFactors = FALSE)\n",
    "\n",
    "rRNA <- read.csv(file=\"Fig3_rRNA_diameter.csv\", header=TRUE, stringsAsFactors = FALSE)\n",
    "\n",
    "rhod <- read.csv(file=\"Fig3F_rhodopsin_per_µm.csv\", header=TRUE, stringsAsFactors = FALSE)\n"
   ]
  },
  {
   "cell_type": "code",
   "execution_count": 4,
   "metadata": {},
   "outputs": [],
   "source": [
    "class <- c(\"Alphaproteobacteria\", \"Gammaproteobacteria\", \"Planctomycetes\", \"Poseidoniia\", \"Nitrososphaeria\", \"Verrucomicrobiae\", \n",
    "           \"Acidimicrobiia\", \"Actinomycetia\", \"Actinobacteria\", \"Marinisomatia\", \"Kapabacteria\" ,\"Bacteroidia\", \"Cyanobacteriia\", \n",
    "           \"UBA1135\", \"Campylobacteria\")\n",
    "class_colors <- c('#2f4f4f', '#8b4513', '#6b8e23', '#000080', '#ff0000', '#00ced1',\n",
    "                 '#ffa500', '#ffff00', '#c71585', '#00fa9a', '#0000ff', '#00ff00', '#ff00ff', \n",
    "                  '#6495ed', '#ffe4b5')"
   ]
  },
  {
   "cell_type": "code",
   "execution_count": null,
   "metadata": {},
   "outputs": [],
   "source": []
  },
  {
   "cell_type": "code",
   "execution_count": null,
   "metadata": {},
   "outputs": [],
   "source": []
  }
 ],
 "metadata": {
  "kernelspec": {
   "display_name": "R",
   "language": "R",
   "name": "ir"
  },
  "language_info": {
   "codemirror_mode": "r",
   "file_extension": ".r",
   "mimetype": "text/x-r-source",
   "name": "R",
   "pygments_lexer": "r",
   "version": "3.5.1"
  }
 },
 "nbformat": 4,
 "nbformat_minor": 4
}
