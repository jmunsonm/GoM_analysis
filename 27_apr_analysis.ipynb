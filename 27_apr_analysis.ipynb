{
 "cells": [
  {
   "cell_type": "code",
   "execution_count": 1,
   "metadata": {},
   "outputs": [
    {
     "name": "stdout",
     "output_type": "stream",
     "text": [
      "/mnt/scgc/simon/microg2p/analyses/20210325_GoM_recluster/20210325_GoM_recluster_analysis/aprA/ already exists.\n",
      "/mnt/scgc/simon/microg2p/analyses/20210325_GoM_recluster/20210325_GoM_recluster_images/aprA already exists.\n"
     ]
    },
    {
     "data": {
      "text/plain": [
       "'3.3.3'"
      ]
     },
     "execution_count": 1,
     "metadata": {},
     "output_type": "execute_result"
    }
   ],
   "source": [
    "import pandas as pd\n",
    "from pandas import DataFrame\n",
    "import os\n",
    "import sys\n",
    "import csv\n",
    "import numpy as np\n",
    "import matplotlib\n",
    "import matplotlib.pyplot as plt\n",
    "plt.show()\n",
    "import glob\n",
    "import seaborn as sns\n",
    "\n",
    "\n",
    "outdir='/mnt/scgc/simon/microg2p/analyses/20210325_GoM_recluster/20210325_GoM_recluster_analysis/aprA/'\n",
    "if os.path.isdir(outdir):\n",
    "    print(outdir, \"already exists.\")\n",
    "else:\n",
    "    os.mkdir(outdir)\n",
    "    print(outdir, \"is created.\")\n",
    "\n",
    "os.chdir('/mnt/scgc/simon/microg2p/analyses/20210325_GoM_recluster/20210325_GoM_recluster_analysis/aprA/')    \n",
    "\n",
    "images='/mnt/scgc/simon/microg2p/analyses/20210325_GoM_recluster/20210325_GoM_recluster_images/aprA'\n",
    "if os.path.isdir(images):\n",
    "    print(images, \"already exists.\")\n",
    "else:\n",
    "    os.mkdir(images)\n",
    "    print(images, \"is created.\")\n",
    "    \n",
    "matplotlib.__version__"
   ]
  },
  {
   "cell_type": "markdown",
   "metadata": {},
   "source": [
    "rerun on 2021-12-07 after correcting for salinity of media samples"
   ]
  },
  {
   "cell_type": "code",
   "execution_count": 2,
   "metadata": {},
   "outputs": [],
   "source": [
    "!module use /mod/scgc\n",
    "!module load seqtk/1.0.75\n",
    "\n",
    "\n"
   ]
  },
  {
   "cell_type": "code",
   "execution_count": 3,
   "metadata": {},
   "outputs": [
    {
     "name": "stdout",
     "output_type": "stream",
     "text": [
      "AH-135-A04_00020\n",
      "AH-135-A07_00715\n",
      "AH-135-B20_00288\n",
      "AH-135-C17_01258\n",
      "AH-135-D17_00233\n",
      "AH-135-F23_00368\n",
      "AH-135-G03_00614\n",
      "AH-135-J02_00431\n",
      "AH-135-K06_00420\n",
      "AH-135-K20_00503\n"
     ]
    }
   ],
   "source": [
    "! grep \"Adenylylsulfate\" /mnt/scgc/simon/microg2p/Data/SAG_genes/all_GoM_genes.ffn > apr_genes.txt\n",
    "! grep \"alpha\" apr_genes.txt > aprA_genes.txt\n",
    "alpha=pd.read_csv('aprA_genes.txt', sep=\" \", header=None, usecols=[0])\n",
    "alpha[0]=alpha[0].str[1:]\n",
    "alist=list(alpha[0])\n",
    "\n",
    "file=open('aprA_genes.txt','w')\n",
    "for items in alist:\n",
    "    file.writelines(items+'\\n')\n",
    "file.close()\n",
    "\n",
    "\n",
    "! grep \"beta\" apr_genes.txt > aprB_genes.txt\n",
    "beta=pd.read_csv('aprB_genes.txt', sep=\" \", header=None, usecols=[0])\n",
    "beta[0]=beta[0].str[1:]\n",
    "blist=list(beta[0])\n",
    "\n",
    "file=open('aprB_genes.txt','w')\n",
    "for items in blist:\n",
    "    file.writelines(items+'\\n')\n",
    "file.close()\n",
    "\n",
    "! head aprA_genes.txt"
   ]
  },
  {
   "cell_type": "code",
   "execution_count": 4,
   "metadata": {},
   "outputs": [
    {
     "name": "stdout",
     "output_type": "stream",
     "text": [
      ">AH-135-A04_00020 Adenylylsulfate reductase subunit alpha\n",
      "ATGGCTAAGAGAAAAACTGTTTGGGAAGACTGTGATATATTAGTTGTTGGTGGTGGTATG\n",
      "GCTGGAACTGGTGCTTCTTATGAGGCTAGATATTGGGGCCGTGATATGAGAATTATATGT\n",
      "GCCGAAAAGGCAAACATTGATCGAAGCGGTGCAGTAGCTCAAGGCCTTTATGCGATCAAC\n",
      "TGCTATATGGGAATGCAGTGGGATGAAAACCAACCCGAAGACCATGTTCGATATGCACGT\n",
      "AATGACTTGATGGGTTTAGTTCGTGAGGACCTTGCTTTTGATATGGCTCGACATGTTGAC\n",
      "TCTGCCGTTCACAAATTTGAAGAATGGGGCCTACCCATTATGAGAAATGAAGAGACTGGT\n",
      "CGTTACCAGCGCGAAGGTAAATGGCAAATAATGATTCACGGTGAAAGCTACAAACCTATC\n",
      "GTTGCAGAAGCTGCTCGCAAATCAGTAGACAAAATTTATAACCGAATTATGATTACGCAT\n",
      "CTTTTAATGGATGAGGCCAAGGAGAATAGAGTTGGTGGAGCAGTTGGCTTTAATTGCCGT\n"
     ]
    }
   ],
   "source": [
    "!seqkit grep -f aprA_genes.txt /mnt/scgc/simon/microg2p/Data/SAG_genes/all_GoM_genes.ffn  -o aprA_genes.fasta\n",
    "!seqkit grep -f aprB_genes.txt /mnt/scgc/simon/microg2p/Data/SAG_genes/all_GoM_genes.ffn  -o aprB_genes.fasta\n",
    "\n",
    "\n",
    "! head aprA_genes.fasta"
   ]
  },
  {
   "cell_type": "code",
   "execution_count": 5,
   "metadata": {},
   "outputs": [
    {
     "name": "stdout",
     "output_type": "stream",
     "text": [
      ">AH-135-A04_00019 Adenylylsulfate reductase subunit beta\n",
      "MPTFVYMTRCDGCGHCVDICPSDIMHIDKTIRRAVNIEPNFCWECYSCVKACPQNAIDVR\n",
      "GYADFAPMGHSVRVLREEEKGTISWKIKFRDGREKNFVSPITTQPWGEKIPKLADLEVPD\n",
      "QAALDSQLLCFEPDALNIETGLPVINKDKLKEGVYY\n",
      ">AH-135-A07_00716 Adenylylsulfate reductase subunit beta\n",
      "MSTFVYMTRCDGCGHCVDICPSDIMHIDENIRRAVNIEPNFCWECYSCVKACPNHAIDVR\n",
      "GYADFAPMGHSVRVRREEEKGTISWKIKFRNGTTKDFVSPITTKPWGKFIPKLAEGEKPN\n",
      "QGEINSQMLYTEPNGLNIDGKLPSVPKDTFKKGVYY\n",
      ">AH-135-B20_00287 Adenylylsulfate reductase subunit beta\n",
      "MPTFVYMTRCDGCGHCVDICPSDIMHIDKVNRRAYNIEPTHCWECFSCVKACPQNAIDVR\n"
     ]
    }
   ],
   "source": [
    "! seqkit translate aprA_genes.fasta -o aprA_genes.faa --trim\n",
    "! seqkit translate aprB_genes.fasta -o aprB_genes.faa --trim\n",
    "! head aprB_genes.faa"
   ]
  },
  {
   "cell_type": "code",
   "execution_count": 6,
   "metadata": {},
   "outputs": [
    {
     "data": {
      "text/html": [
       "<div>\n",
       "<style scoped>\n",
       "    .dataframe tbody tr th:only-of-type {\n",
       "        vertical-align: middle;\n",
       "    }\n",
       "\n",
       "    .dataframe tbody tr th {\n",
       "        vertical-align: top;\n",
       "    }\n",
       "\n",
       "    .dataframe thead th {\n",
       "        text-align: right;\n",
       "    }\n",
       "</style>\n",
       "<table border=\"1\" class=\"dataframe\">\n",
       "  <thead>\n",
       "    <tr style=\"text-align: right;\">\n",
       "      <th></th>\n",
       "      <th>SAG</th>\n",
       "      <th>GTDB_classification</th>\n",
       "    </tr>\n",
       "  </thead>\n",
       "  <tbody>\n",
       "    <tr>\n",
       "      <th>0</th>\n",
       "      <td>AH-135-A04</td>\n",
       "      <td>Thioglobus</td>\n",
       "    </tr>\n",
       "    <tr>\n",
       "      <th>1</th>\n",
       "      <td>AH-135-A07</td>\n",
       "      <td>Unclassified</td>\n",
       "    </tr>\n",
       "    <tr>\n",
       "      <th>2</th>\n",
       "      <td>AH-135-B20</td>\n",
       "      <td>ASP10-02a</td>\n",
       "    </tr>\n",
       "    <tr>\n",
       "      <th>3</th>\n",
       "      <td>AH-135-C17</td>\n",
       "      <td>Pelagibacter</td>\n",
       "    </tr>\n",
       "    <tr>\n",
       "      <th>4</th>\n",
       "      <td>AH-135-D17</td>\n",
       "      <td>Thioglobus</td>\n",
       "    </tr>\n",
       "    <tr>\n",
       "      <th>...</th>\n",
       "      <td>...</td>\n",
       "      <td>...</td>\n",
       "    </tr>\n",
       "    <tr>\n",
       "      <th>449</th>\n",
       "      <td>AH-709-P06</td>\n",
       "      <td>Pelagibacter</td>\n",
       "    </tr>\n",
       "    <tr>\n",
       "      <th>450</th>\n",
       "      <td>AH-709-P07</td>\n",
       "      <td>Pelagibacter</td>\n",
       "    </tr>\n",
       "    <tr>\n",
       "      <th>451</th>\n",
       "      <td>AH-709-P10</td>\n",
       "      <td>Pelagibacter</td>\n",
       "    </tr>\n",
       "    <tr>\n",
       "      <th>452</th>\n",
       "      <td>AH-709-P18</td>\n",
       "      <td>Pelagibacter</td>\n",
       "    </tr>\n",
       "    <tr>\n",
       "      <th>453</th>\n",
       "      <td>AH-709-P20</td>\n",
       "      <td>Pelagibacter</td>\n",
       "    </tr>\n",
       "  </tbody>\n",
       "</table>\n",
       "<p>454 rows × 2 columns</p>\n",
       "</div>"
      ],
      "text/plain": [
       "            SAG GTDB_classification\n",
       "0    AH-135-A04          Thioglobus\n",
       "1    AH-135-A07        Unclassified\n",
       "2    AH-135-B20           ASP10-02a\n",
       "3    AH-135-C17        Pelagibacter\n",
       "4    AH-135-D17          Thioglobus\n",
       "..          ...                 ...\n",
       "449  AH-709-P06        Pelagibacter\n",
       "450  AH-709-P07        Pelagibacter\n",
       "451  AH-709-P10        Pelagibacter\n",
       "452  AH-709-P18        Pelagibacter\n",
       "453  AH-709-P20        Pelagibacter\n",
       "\n",
       "[454 rows x 2 columns]"
      ]
     },
     "execution_count": 6,
     "metadata": {},
     "output_type": "execute_result"
    }
   ],
   "source": [
    "SAG_data=pd.read_csv('/mnt/scgc/simon/microg2p/analyses/20210325_GoM_recluster/Summary_files/All_GoM_SAGs_1cell_20kb_decon_531normalized_predresp_rate_GTDBclass.csv', \n",
    "                     index_col=0, usecols=['name', 'GTDB_classification'])\n",
    "SAG_data\n",
    "alpha[0]=alpha[0].str[:10]\n",
    "alpha=alpha.merge(SAG_data, how='left', left_on=0, right_on='name')\n",
    "alpha=alpha.rename(columns={0:'SAG'})\n",
    "\n",
    "beta[0]=beta[0].str[:10]\n",
    "beta=beta.merge(SAG_data, how='left', left_on=0, right_on='name')\n",
    "beta=beta.rename(columns={0:\"SAG\"})\n",
    "\n",
    "alpha"
   ]
  },
  {
   "cell_type": "code",
   "execution_count": 7,
   "metadata": {},
   "outputs": [
    {
     "name": "stdout",
     "output_type": "stream",
     "text": [
      "file            format  type     num_seqs  sum_len  min_len  avg_len  max_len\n",
      "aprA_genes.faa  FASTA   Protein       454  273,328       60      602      776\n",
      "file            format  type     num_seqs  sum_len  min_len  avg_len  max_len\n",
      "aprB_genes.faa  FASTA   Protein       438   68,377       75    156.1      166\n"
     ]
    }
   ],
   "source": [
    "#check the length of the genes and get rid of any that are <75% of full length\n",
    "!seqkit stats aprA_genes.faa\n",
    "!seqkit stats aprB_genes.faa"
   ]
  },
  {
   "cell_type": "code",
   "execution_count": 8,
   "metadata": {},
   "outputs": [
    {
     "name": "stdout",
     "output_type": "stream",
     "text": [
      "\u001b[33m[WARN]\u001b[0m you may switch on flag -g/--remove-gaps to remove spaces\n",
      "\u001b[33m[WARN]\u001b[0m you may switch on flag -g/--remove-gaps to remove spaces\n",
      "cat: aprA_ref_genes.faa: No such file or directory\n",
      "file                   format  type     num_seqs  sum_len  min_len  avg_len  max_len\n",
      "aprA_genes_75perc.faa  FASTA   Protein       437  269,488      463    616.7      776\n",
      "file                   format  type     num_seqs  sum_len  min_len  avg_len  max_len\n",
      "aprB_genes_75perc.faa  FASTA   Protein       437   68,302      120    156.3      166\n"
     ]
    }
   ],
   "source": [
    "# remove any sequences that are <75% of the average length \n",
    "!seqkit seq -m 450 aprA_genes.faa > aprA_genes_75perc.faa\n",
    "!seqkit seq -m 120 aprB_genes.faa > aprB_genes_75perc.faa\n",
    "\n",
    "! cat aprA_genes_75perc.faa aprA_ref_genes.faa > aprA_genes_75perc_and_ref.faa\n",
    "\n",
    "!seqkit stats aprA_genes_75perc.faa\n",
    "!seqkit stats aprB_genes_75perc.faa"
   ]
  },
  {
   "cell_type": "code",
   "execution_count": 9,
   "metadata": {},
   "outputs": [
    {
     "name": "stdout",
     "output_type": "stream",
     "text": [
      "\n",
      "MUSCLE v3.8.1551 by Robert C. Edgar\n",
      "\n",
      "http://www.drive5.com/muscle\n",
      "This software is donated to the public domain.\n",
      "Please cite: Edgar, R.C. Nucleic Acids Res 32(5), 1792-97.\n",
      "\n",
      "\n",
      "*** ERROR ***  Cannot open 'aprA_genes_75perc_and_ref.faa.faa' errno=2\n",
      "\n",
      "\n",
      "MUSCLE v3.8.1551 by Robert C. Edgar\n",
      "\n",
      "http://www.drive5.com/muscle\n",
      "This software is donated to the public domain.\n",
      "Please cite: Edgar, R.C. Nucleic Acids Res 32(5), 1792-97.\n",
      "\n",
      "aprB_genes_75perc 437 seqs, lengths min 120, max 166, avg 156\n",
      "00:00:01    21 MB(-4%)  Iter   1  100.00%  K-mer dist pass 1\n",
      "00:00:01    21 MB(-4%)  Iter   1  100.00%  K-mer dist pass 2\n",
      "00:00:01   65 MB(-12%)  Iter   1  100.00%  Align node       \n",
      "00:00:01   66 MB(-12%)  Iter   1  100.00%  Root alignment\n",
      "00:00:01   66 MB(-12%)  Iter   2  100.00%  Refine tree   \n",
      "00:00:01   66 MB(-12%)  Iter   2  100.00%  Root alignmentent\n",
      "00:00:01   66 MB(-12%)  Iter   2  100.00%  Root alignment\n",
      "00:00:03   66 MB(-12%)  Iter   3  100.00%  Refine biparts\n",
      "00:00:04   66 MB(-12%)  Iter   4  100.00%  Refine biparts\n",
      "00:00:05   66 MB(-12%)  Iter   5  100.00%  Refine biparts\n",
      "00:00:06   66 MB(-12%)  Iter   6  100.00%  Refine biparts\n",
      "00:00:07   66 MB(-12%)  Iter   7  100.00%  Refine biparts\n",
      "00:00:09   66 MB(-12%)  Iter   8  100.00%  Refine biparts\n",
      "00:00:11   66 MB(-12%)  Iter   9  100.00%  Refine biparts\n",
      "00:00:11   66 MB(-12%)  Iter  10  100.00%  Refine biparts\n",
      "00:00:11   66 MB(-12%)  Iter  10  100.00%  Refine biparts\n"
     ]
    }
   ],
   "source": [
    "! module load muscle/3.8.31\n",
    "! muscle -in aprA_genes_75perc_and_ref.faa.faa -out aprA_genes_75perc_and_ref_muscle_align.faa\n",
    "! muscle -in aprB_genes_75perc.faa -out aprB_75perc_muscle_align.faa\n"
   ]
  },
  {
   "cell_type": "code",
   "execution_count": null,
   "metadata": {},
   "outputs": [],
   "source": []
  },
  {
   "cell_type": "code",
   "execution_count": null,
   "metadata": {},
   "outputs": [],
   "source": []
  }
 ],
 "metadata": {
  "kernelspec": {
   "display_name": "Python 3",
   "language": "python",
   "name": "python3"
  },
  "language_info": {
   "codemirror_mode": {
    "name": "ipython",
    "version": 3
   },
   "file_extension": ".py",
   "mimetype": "text/x-python",
   "name": "python",
   "nbconvert_exporter": "python",
   "pygments_lexer": "ipython3",
   "version": "3.6.7"
  }
 },
 "nbformat": 4,
 "nbformat_minor": 4
}
