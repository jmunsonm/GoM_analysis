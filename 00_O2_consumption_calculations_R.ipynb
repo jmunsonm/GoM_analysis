{
 "cells": [
  {
   "cell_type": "markdown",
   "metadata": {},
   "source": [
    "rerun on 2021-12-07 after correcting for salinity of media samples"
   ]
  },
  {
   "cell_type": "code",
   "execution_count": 4,
   "metadata": {},
   "outputs": [
    {
     "data": {
      "text/html": [
       "<table class=\"dataframe\">\n",
       "<caption>A data.frame: 6 × 6</caption>\n",
       "<thead>\n",
       "\t<tr><th></th><th scope=col>resp</th><th scope=col>resp_simplecorrection</th><th scope=col>resp_complexcorrection</th><th scope=col>rsg_gm</th><th scope=col>Normalized.4Peak.value.Fluorescence...Median</th><th scope=col>Normalized.4Peak.value.Fluorescence...Arithmatic.Mean</th></tr>\n",
       "\t<tr><th></th><th scope=col>&lt;dbl&gt;</th><th scope=col>&lt;dbl&gt;</th><th scope=col>&lt;dbl&gt;</th><th scope=col>&lt;dbl&gt;</th><th scope=col>&lt;dbl&gt;</th><th scope=col>&lt;dbl&gt;</th></tr>\n",
       "</thead>\n",
       "<tbody>\n",
       "\t<tr><th scope=row>Shewanella14C_T6_1</th><td>0.076506020</td><td>0.062314677</td><td>0.053227057</td><td> 8.430290</td><td> 8.671154</td><td>18.423058</td></tr>\n",
       "\t<tr><th scope=row>Shewanella14C_T6_2</th><td>0.088157515</td><td>0.071804900</td><td>0.059923821</td><td>10.678354</td><td>12.308818</td><td>20.498194</td></tr>\n",
       "\t<tr><th scope=row>ShewanellaLowCarbon_T4_1</th><td>0.017742522</td><td>0.014451406</td><td>0.013953085</td><td> 6.719600</td><td> 7.843570</td><td> 8.912018</td></tr>\n",
       "\t<tr><th scope=row>ShewanellaLowCarbon_T4_2</th><td>0.015855727</td><td>0.012914598</td><td>0.012594276</td><td> 5.984600</td><td> 7.473010</td><td> 8.590866</td></tr>\n",
       "\t<tr><th scope=row>ShewanellaLowCarbon_T5_1</th><td>0.010084775</td><td>0.008214118</td><td>0.007991376</td><td> 6.596018</td><td> 7.139506</td><td> 7.930034</td></tr>\n",
       "\t<tr><th scope=row>ShewanellaLowCarbon_T5_2</th><td>0.009396371</td><td>0.007653409</td><td>0.007473245</td><td> 6.243986</td><td> 8.115314</td><td> 8.813202</td></tr>\n",
       "</tbody>\n",
       "</table>\n"
      ],
      "text/latex": [
       "A data.frame: 6 × 6\n",
       "\\begin{tabular}{r|llllll}\n",
       "  & resp & resp\\_simplecorrection & resp\\_complexcorrection & rsg\\_gm & Normalized.4Peak.value.Fluorescence...Median & Normalized.4Peak.value.Fluorescence...Arithmatic.Mean\\\\\n",
       "  & <dbl> & <dbl> & <dbl> & <dbl> & <dbl> & <dbl>\\\\\n",
       "\\hline\n",
       "\tShewanella14C\\_T6\\_1 & 0.076506020 & 0.062314677 & 0.053227057 &  8.430290 &  8.671154 & 18.423058\\\\\n",
       "\tShewanella14C\\_T6\\_2 & 0.088157515 & 0.071804900 & 0.059923821 & 10.678354 & 12.308818 & 20.498194\\\\\n",
       "\tShewanellaLowCarbon\\_T4\\_1 & 0.017742522 & 0.014451406 & 0.013953085 &  6.719600 &  7.843570 &  8.912018\\\\\n",
       "\tShewanellaLowCarbon\\_T4\\_2 & 0.015855727 & 0.012914598 & 0.012594276 &  5.984600 &  7.473010 &  8.590866\\\\\n",
       "\tShewanellaLowCarbon\\_T5\\_1 & 0.010084775 & 0.008214118 & 0.007991376 &  6.596018 &  7.139506 &  7.930034\\\\\n",
       "\tShewanellaLowCarbon\\_T5\\_2 & 0.009396371 & 0.007653409 & 0.007473245 &  6.243986 &  8.115314 &  8.813202\\\\\n",
       "\\end{tabular}\n"
      ],
      "text/markdown": [
       "\n",
       "A data.frame: 6 × 6\n",
       "\n",
       "| <!--/--> | resp &lt;dbl&gt; | resp_simplecorrection &lt;dbl&gt; | resp_complexcorrection &lt;dbl&gt; | rsg_gm &lt;dbl&gt; | Normalized.4Peak.value.Fluorescence...Median &lt;dbl&gt; | Normalized.4Peak.value.Fluorescence...Arithmatic.Mean &lt;dbl&gt; |\n",
       "|---|---|---|---|---|---|---|\n",
       "| Shewanella14C_T6_1 | 0.076506020 | 0.062314677 | 0.053227057 |  8.430290 |  8.671154 | 18.423058 |\n",
       "| Shewanella14C_T6_2 | 0.088157515 | 0.071804900 | 0.059923821 | 10.678354 | 12.308818 | 20.498194 |\n",
       "| ShewanellaLowCarbon_T4_1 | 0.017742522 | 0.014451406 | 0.013953085 |  6.719600 |  7.843570 |  8.912018 |\n",
       "| ShewanellaLowCarbon_T4_2 | 0.015855727 | 0.012914598 | 0.012594276 |  5.984600 |  7.473010 |  8.590866 |\n",
       "| ShewanellaLowCarbon_T5_1 | 0.010084775 | 0.008214118 | 0.007991376 |  6.596018 |  7.139506 |  7.930034 |\n",
       "| ShewanellaLowCarbon_T5_2 | 0.009396371 | 0.007653409 | 0.007473245 |  6.243986 |  8.115314 |  8.813202 |\n",
       "\n"
      ],
      "text/plain": [
       "                         resp        resp_simplecorrection\n",
       "Shewanella14C_T6_1       0.076506020 0.062314677          \n",
       "Shewanella14C_T6_2       0.088157515 0.071804900          \n",
       "ShewanellaLowCarbon_T4_1 0.017742522 0.014451406          \n",
       "ShewanellaLowCarbon_T4_2 0.015855727 0.012914598          \n",
       "ShewanellaLowCarbon_T5_1 0.010084775 0.008214118          \n",
       "ShewanellaLowCarbon_T5_2 0.009396371 0.007653409          \n",
       "                         resp_complexcorrection rsg_gm   \n",
       "Shewanella14C_T6_1       0.053227057             8.430290\n",
       "Shewanella14C_T6_2       0.059923821            10.678354\n",
       "ShewanellaLowCarbon_T4_1 0.013953085             6.719600\n",
       "ShewanellaLowCarbon_T4_2 0.012594276             5.984600\n",
       "ShewanellaLowCarbon_T5_1 0.007991376             6.596018\n",
       "ShewanellaLowCarbon_T5_2 0.007473245             6.243986\n",
       "                         Normalized.4Peak.value.Fluorescence...Median\n",
       "Shewanella14C_T6_1        8.671154                                   \n",
       "Shewanella14C_T6_2       12.308818                                   \n",
       "ShewanellaLowCarbon_T4_1  7.843570                                   \n",
       "ShewanellaLowCarbon_T4_2  7.473010                                   \n",
       "ShewanellaLowCarbon_T5_1  7.139506                                   \n",
       "ShewanellaLowCarbon_T5_2  8.115314                                   \n",
       "                         Normalized.4Peak.value.Fluorescence...Arithmatic.Mean\n",
       "Shewanella14C_T6_1       18.423058                                            \n",
       "Shewanella14C_T6_2       20.498194                                            \n",
       "ShewanellaLowCarbon_T4_1  8.912018                                            \n",
       "ShewanellaLowCarbon_T4_2  8.590866                                            \n",
       "ShewanellaLowCarbon_T5_1  7.930034                                            \n",
       "ShewanellaLowCarbon_T5_2  8.813202                                            "
      ]
     },
     "metadata": {},
     "output_type": "display_data"
    }
   ],
   "source": [
    "setwd(\"/mnt/scgc/simon/microg2p/analyses/20210325_GoM_recluster/Summary_files/\")\n",
    "library(ggplot2)\n",
    "theme_set(theme_bw())\n",
    "library(dplyr)\n",
    "\n",
    "reg_dat <- read.csv(file=\"/mnt/scgc/simon/microg2p/analyses/JdF_analysis/analysis/O2_consumption_calculation/rsg_reg_data.csv\", header = TRUE, row.names=1) #Read in the Pure Culture Regression Datahead()\n",
    "head(reg_dat)\n"
   ]
  },
  {
   "cell_type": "code",
   "execution_count": 5,
   "metadata": {},
   "outputs": [
    {
     "data": {
      "text/plain": [
       "\n",
       "Call:\n",
       "lm(formula = log10(resp_complexcorrection) ~ rsg_gm, data = reg_dat)\n",
       "\n",
       "Residuals:\n",
       "     Min       1Q   Median       3Q      Max \n",
       "-0.73012 -0.27196 -0.00087  0.23529  0.88189 \n",
       "\n",
       "Coefficients:\n",
       "             Estimate Std. Error t value Pr(>|t|)    \n",
       "(Intercept) -2.400298   0.076597  -31.34   <2e-16 ***\n",
       "rsg_gm       0.084334   0.004949   17.04   <2e-16 ***\n",
       "---\n",
       "Signif. codes:  0 ‘***’ 0.001 ‘**’ 0.01 ‘*’ 0.05 ‘.’ 0.1 ‘ ’ 1\n",
       "\n",
       "Residual standard error: 0.3847 on 48 degrees of freedom\n",
       "Multiple R-squared:  0.8582,\tAdjusted R-squared:  0.8552 \n",
       "F-statistic: 290.4 on 1 and 48 DF,  p-value: < 2.2e-16\n"
      ]
     },
     "metadata": {},
     "output_type": "display_data"
    }
   ],
   "source": [
    "\n",
    "\n",
    "#Do the linear regression, Note log10 transformation of the Respiration data column from the file\n",
    "\n",
    "modL <- lm(log10(resp_complexcorrection) ~ rsg_gm, data = reg_dat)\n",
    "summary(modL)"
   ]
  },
  {
   "cell_type": "code",
   "execution_count": 6,
   "metadata": {},
   "outputs": [
    {
     "data": {
      "image/png": "[encoded data removed]",
      "text/plain": [
       "plot without title"
      ]
     },
     "metadata": {
      "image/png": {
       "height": 420,
       "width": 420
      }
     },
     "output_type": "display_data"
    }
   ],
   "source": [
    "\n",
    "#Plot Residiuals with 0 line as a reference. Note higher variance at lower values. This will be apparent in the predictive interval for the data.\n",
    "\n",
    "modL.resid = resid(modL) \n",
    "plot(reg_dat$rsg_gm, modL.resid, ylab=\"Residuals\", xlab=\"RSG Fluorescence\") \n",
    "abline(0, 0)   "
   ]
  },
  {
   "cell_type": "code",
   "execution_count": 7,
   "metadata": {},
   "outputs": [
    {
     "name": "stderr",
     "output_type": "stream",
     "text": [
      "Warning message in predict.lm(modL, interval = c(\"prediction\")):\n",
      "“predictions on current data refer to _future_ responses\n",
      "”\n"
     ]
    },
    {
     "data": {
      "text/html": [
       "<table class=\"dataframe\">\n",
       "<caption>A data.frame: 6 × 3</caption>\n",
       "<thead>\n",
       "\t<tr><th></th><th scope=col>fit</th><th scope=col>lwr</th><th scope=col>upr</th></tr>\n",
       "\t<tr><th></th><th scope=col>&lt;dbl&gt;</th><th scope=col>&lt;dbl&gt;</th><th scope=col>&lt;dbl&gt;</th></tr>\n",
       "</thead>\n",
       "<tbody>\n",
       "\t<tr><th scope=row>Shewanella14C_T6_1</th><td>-1.689341</td><td>-2.470896</td><td>-0.9077869</td></tr>\n",
       "\t<tr><th scope=row>Shewanella14C_T6_2</th><td>-1.499754</td><td>-2.280926</td><td>-0.7185818</td></tr>\n",
       "\t<tr><th scope=row>ShewanellaLowCarbon_T4_1</th><td>-1.833610</td><td>-2.615884</td><td>-1.0513362</td></tr>\n",
       "\t<tr><th scope=row>ShewanellaLowCarbon_T4_2</th><td>-1.895595</td><td>-2.678292</td><td>-1.1128988</td></tr>\n",
       "\t<tr><th scope=row>ShewanellaLowCarbon_T5_1</th><td>-1.844032</td><td>-2.626372</td><td>-1.0616920</td></tr>\n",
       "\t<tr><th scope=row>ShewanellaLowCarbon_T5_2</th><td>-1.873720</td><td>-2.656260</td><td>-1.0911807</td></tr>\n",
       "</tbody>\n",
       "</table>\n"
      ],
      "text/latex": [
       "A data.frame: 6 × 3\n",
       "\\begin{tabular}{r|lll}\n",
       "  & fit & lwr & upr\\\\\n",
       "  & <dbl> & <dbl> & <dbl>\\\\\n",
       "\\hline\n",
       "\tShewanella14C\\_T6\\_1 & -1.689341 & -2.470896 & -0.9077869\\\\\n",
       "\tShewanella14C\\_T6\\_2 & -1.499754 & -2.280926 & -0.7185818\\\\\n",
       "\tShewanellaLowCarbon\\_T4\\_1 & -1.833610 & -2.615884 & -1.0513362\\\\\n",
       "\tShewanellaLowCarbon\\_T4\\_2 & -1.895595 & -2.678292 & -1.1128988\\\\\n",
       "\tShewanellaLowCarbon\\_T5\\_1 & -1.844032 & -2.626372 & -1.0616920\\\\\n",
       "\tShewanellaLowCarbon\\_T5\\_2 & -1.873720 & -2.656260 & -1.0911807\\\\\n",
       "\\end{tabular}\n"
      ],
      "text/markdown": [
       "\n",
       "A data.frame: 6 × 3\n",
       "\n",
       "| <!--/--> | fit &lt;dbl&gt; | lwr &lt;dbl&gt; | upr &lt;dbl&gt; |\n",
       "|---|---|---|---|\n",
       "| Shewanella14C_T6_1 | -1.689341 | -2.470896 | -0.9077869 |\n",
       "| Shewanella14C_T6_2 | -1.499754 | -2.280926 | -0.7185818 |\n",
       "| ShewanellaLowCarbon_T4_1 | -1.833610 | -2.615884 | -1.0513362 |\n",
       "| ShewanellaLowCarbon_T4_2 | -1.895595 | -2.678292 | -1.1128988 |\n",
       "| ShewanellaLowCarbon_T5_1 | -1.844032 | -2.626372 | -1.0616920 |\n",
       "| ShewanellaLowCarbon_T5_2 | -1.873720 | -2.656260 | -1.0911807 |\n",
       "\n"
      ],
      "text/plain": [
       "                         fit       lwr       upr       \n",
       "Shewanella14C_T6_1       -1.689341 -2.470896 -0.9077869\n",
       "Shewanella14C_T6_2       -1.499754 -2.280926 -0.7185818\n",
       "ShewanellaLowCarbon_T4_1 -1.833610 -2.615884 -1.0513362\n",
       "ShewanellaLowCarbon_T4_2 -1.895595 -2.678292 -1.1128988\n",
       "ShewanellaLowCarbon_T5_1 -1.844032 -2.626372 -1.0616920\n",
       "ShewanellaLowCarbon_T5_2 -1.873720 -2.656260 -1.0911807"
      ]
     },
     "metadata": {},
     "output_type": "display_data"
    }
   ],
   "source": [
    "\n",
    "#Calculate the Predictive Interval for the regression data\n",
    "\n",
    "model_p <- as.data.frame(predict(modL, interval=c(\"prediction\")))\n",
    "## Warning in predict.lm(modL, interval = c(\"prediction\")): predictions on current data refer to _future_ responses\n",
    "head(model_p)\n",
    "write.csv(model_p, file = \"Rsg_Regressin_Predicitive.csv\") #Change title, save for records"
   ]
  },
  {
   "cell_type": "code",
   "execution_count": 8,
   "metadata": {},
   "outputs": [
    {
     "data": {
      "text/html": [
       "<table class=\"dataframe\">\n",
       "<caption>A data.frame: 6 × 3</caption>\n",
       "<thead>\n",
       "\t<tr><th></th><th scope=col>fit</th><th scope=col>lwr</th><th scope=col>upr</th></tr>\n",
       "\t<tr><th></th><th scope=col>&lt;dbl&gt;</th><th scope=col>&lt;dbl&gt;</th><th scope=col>&lt;dbl&gt;</th></tr>\n",
       "</thead>\n",
       "<tbody>\n",
       "\t<tr><th scope=row>Shewanella14C_T6_1</th><td>-1.689341</td><td>-1.801445</td><td>-1.577238</td></tr>\n",
       "\t<tr><th scope=row>Shewanella14C_T6_2</th><td>-1.499754</td><td>-1.609161</td><td>-1.390347</td></tr>\n",
       "\t<tr><th scope=row>ShewanellaLowCarbon_T4_1</th><td>-1.833610</td><td>-1.950623</td><td>-1.716597</td></tr>\n",
       "\t<tr><th scope=row>ShewanellaLowCarbon_T4_2</th><td>-1.895595</td><td>-2.015401</td><td>-1.775790</td></tr>\n",
       "\t<tr><th scope=row>ShewanellaLowCarbon_T5_1</th><td>-1.844032</td><td>-1.961488</td><td>-1.726577</td></tr>\n",
       "\t<tr><th scope=row>ShewanellaLowCarbon_T5_2</th><td>-1.873720</td><td>-1.992496</td><td>-1.754944</td></tr>\n",
       "</tbody>\n",
       "</table>\n"
      ],
      "text/latex": [
       "A data.frame: 6 × 3\n",
       "\\begin{tabular}{r|lll}\n",
       "  & fit & lwr & upr\\\\\n",
       "  & <dbl> & <dbl> & <dbl>\\\\\n",
       "\\hline\n",
       "\tShewanella14C\\_T6\\_1 & -1.689341 & -1.801445 & -1.577238\\\\\n",
       "\tShewanella14C\\_T6\\_2 & -1.499754 & -1.609161 & -1.390347\\\\\n",
       "\tShewanellaLowCarbon\\_T4\\_1 & -1.833610 & -1.950623 & -1.716597\\\\\n",
       "\tShewanellaLowCarbon\\_T4\\_2 & -1.895595 & -2.015401 & -1.775790\\\\\n",
       "\tShewanellaLowCarbon\\_T5\\_1 & -1.844032 & -1.961488 & -1.726577\\\\\n",
       "\tShewanellaLowCarbon\\_T5\\_2 & -1.873720 & -1.992496 & -1.754944\\\\\n",
       "\\end{tabular}\n"
      ],
      "text/markdown": [
       "\n",
       "A data.frame: 6 × 3\n",
       "\n",
       "| <!--/--> | fit &lt;dbl&gt; | lwr &lt;dbl&gt; | upr &lt;dbl&gt; |\n",
       "|---|---|---|---|\n",
       "| Shewanella14C_T6_1 | -1.689341 | -1.801445 | -1.577238 |\n",
       "| Shewanella14C_T6_2 | -1.499754 | -1.609161 | -1.390347 |\n",
       "| ShewanellaLowCarbon_T4_1 | -1.833610 | -1.950623 | -1.716597 |\n",
       "| ShewanellaLowCarbon_T4_2 | -1.895595 | -2.015401 | -1.775790 |\n",
       "| ShewanellaLowCarbon_T5_1 | -1.844032 | -1.961488 | -1.726577 |\n",
       "| ShewanellaLowCarbon_T5_2 | -1.873720 | -1.992496 | -1.754944 |\n",
       "\n"
      ],
      "text/plain": [
       "                         fit       lwr       upr      \n",
       "Shewanella14C_T6_1       -1.689341 -1.801445 -1.577238\n",
       "Shewanella14C_T6_2       -1.499754 -1.609161 -1.390347\n",
       "ShewanellaLowCarbon_T4_1 -1.833610 -1.950623 -1.716597\n",
       "ShewanellaLowCarbon_T4_2 -1.895595 -2.015401 -1.775790\n",
       "ShewanellaLowCarbon_T5_1 -1.844032 -1.961488 -1.726577\n",
       "ShewanellaLowCarbon_T5_2 -1.873720 -1.992496 -1.754944"
      ]
     },
     "metadata": {},
     "output_type": "display_data"
    }
   ],
   "source": [
    "\n",
    "#Confidence interval. Note the fit value is the same but the upper and lower bounds are different.\n",
    "\n",
    "model_conf <- as.data.frame(predict(modL, interval=c(\"confidence\")))\n",
    "head(model_conf)\n",
    "write.csv(model_conf, file = \"Rsg_Regressin_Confidence.csv\") #Change title, save for records"
   ]
  },
  {
   "cell_type": "code",
   "execution_count": 9,
   "metadata": {
    "scrolled": true
   },
   "outputs": [
    {
     "name": "stderr",
     "output_type": "stream",
     "text": [
      "`geom_smooth()` using formula 'y ~ x'\n",
      "\n",
      "`geom_smooth()` using formula 'y ~ x'\n",
      "\n"
     ]
    },
    {
     "data": {
      "text/html": [
       "<strong>png:</strong> 2"
      ],
      "text/latex": [
       "\\textbf{png:} 2"
      ],
      "text/markdown": [
       "**png:** 2"
      ],
      "text/plain": [
       "png \n",
       "  2 "
      ]
     },
     "metadata": {},
     "output_type": "display_data"
    },
    {
     "data": {
      "image/png": "[encoded data removed]",
      "text/plain": [
       "plot without title"
      ]
     },
     "metadata": {
      "image/png": {
       "height": 420,
       "width": 420
      }
     },
     "output_type": "display_data"
    }
   ],
   "source": [
    "\n",
    "#Make Plot\n",
    "\n",
    "prelim_lm <- model_p %>%\n",
    "ggplot(aes(x = reg_dat$rsg_gm, y = log10(reg_dat$resp))) +\n",
    "geom_point() +\n",
    "aes(ymin=lwr) +\n",
    "aes(ymax=upr) +\n",
    "xlab(\"Normalized RSG\")+\n",
    "ylab(\"log10 fmol O2 consumption/cell/hour\") +\n",
    "geom_ribbon(alpha=0.1) +\n",
    "stat_smooth(method = \"lm\", col = \"red\") # This adds the 95% confidence interval (darker grey area around regression line)\n",
    "prelim_lm\n",
    "\n",
    "pdf(\"RSG_O2_conversion.pdf\")\n",
    "print(prelim_lm)\n",
    "dev.off()"
   ]
  },
  {
   "cell_type": "code",
   "execution_count": 20,
   "metadata": {},
   "outputs": [
    {
     "data": {
      "text/html": [
       "<table class=\"dataframe\">\n",
       "<caption>A data.frame: 6 × 1</caption>\n",
       "<thead>\n",
       "\t<tr><th></th><th scope=col>rsg_gm</th></tr>\n",
       "\t<tr><th></th><th scope=col>&lt;dbl&gt;</th></tr>\n",
       "</thead>\n",
       "<tbody>\n",
       "\t<tr><th scope=row>1</th><td> 0.759412</td></tr>\n",
       "\t<tr><th scope=row>2</th><td>14.253900</td></tr>\n",
       "\t<tr><th scope=row>3</th><td> 0.441609</td></tr>\n",
       "\t<tr><th scope=row>4</th><td> 8.137930</td></tr>\n",
       "\t<tr><th scope=row>5</th><td> 3.178290</td></tr>\n",
       "\t<tr><th scope=row>6</th><td> 3.423320</td></tr>\n",
       "</tbody>\n",
       "</table>\n"
      ],
      "text/latex": [
       "A data.frame: 6 × 1\n",
       "\\begin{tabular}{r|l}\n",
       "  & rsg\\_gm\\\\\n",
       "  & <dbl>\\\\\n",
       "\\hline\n",
       "\t1 &  0.759412\\\\\n",
       "\t2 & 14.253900\\\\\n",
       "\t3 &  0.441609\\\\\n",
       "\t4 &  8.137930\\\\\n",
       "\t5 &  3.178290\\\\\n",
       "\t6 &  3.423320\\\\\n",
       "\\end{tabular}\n"
      ],
      "text/markdown": [
       "\n",
       "A data.frame: 6 × 1\n",
       "\n",
       "| <!--/--> | rsg_gm &lt;dbl&gt; |\n",
       "|---|---|\n",
       "| 1 |  0.759412 |\n",
       "| 2 | 14.253900 |\n",
       "| 3 |  0.441609 |\n",
       "| 4 |  8.137930 |\n",
       "| 5 |  3.178290 |\n",
       "| 6 |  3.423320 |\n",
       "\n"
      ],
      "text/plain": [
       "  rsg_gm   \n",
       "1  0.759412\n",
       "2 14.253900\n",
       "3  0.441609\n",
       "4  8.137930\n",
       "5  3.178290\n",
       "6  3.423320"
      ]
     },
     "metadata": {},
     "output_type": "display_data"
    }
   ],
   "source": [
    "\n",
    "#Read in Data from Sorted SAGs\n",
    "\n",
    "sagvals <- read.csv(file=\"/mnt/scgc/simon/microg2p/analyses/20210325_GoM_recluster/Summary_files/All_GoM_SAGs_1cell_20kb_decon_531normalized.csv\", \n",
    "                    header = TRUE)\n",
    "keep <- (sagvals$gate == \"Respiring cells (RSG-positive)\")\n",
    "rsg_vals <- as.data.frame(sagvals$normalized_531_value[keep]) #extract the needed data\n",
    "names(rsg_vals)[1] <- \"rsg_gm\" # rename\n",
    "head(rsg_vals)"
   ]
  },
  {
   "cell_type": "code",
   "execution_count": 21,
   "metadata": {},
   "outputs": [
    {
     "data": {
      "text/html": [
       "<table class=\"dataframe\">\n",
       "<caption>A matrix: 6 × 3 of type dbl</caption>\n",
       "<thead>\n",
       "\t<tr><th></th><th scope=col>Predicted respiration rate fmol O2/hr</th><th scope=col>lower bound</th><th scope=col>upper bound</th></tr>\n",
       "</thead>\n",
       "<tbody>\n",
       "\t<tr><th scope=row>1</th><td>0.004610479</td><td>0.0007517834</td><td>0.02827479</td></tr>\n",
       "\t<tr><th scope=row>2</th><td>0.063355520</td><td>0.0104689014</td><td>0.38341387</td></tr>\n",
       "\t<tr><th scope=row>3</th><td>0.004334556</td><td>0.0007061226</td><td>0.02660781</td></tr>\n",
       "\t<tr><th scope=row>4</th><td>0.019319810</td><td>0.0031941231</td><td>0.11685682</td></tr>\n",
       "\t<tr><th scope=row>5</th><td>0.007374604</td><td>0.0012100522</td><td>0.04494416</td></tr>\n",
       "\t<tr><th scope=row>6</th><td>0.007733978</td><td>0.0012697059</td><td>0.04710888</td></tr>\n",
       "</tbody>\n",
       "</table>\n"
      ],
      "text/latex": [
       "A matrix: 6 × 3 of type dbl\n",
       "\\begin{tabular}{r|lll}\n",
       "  & Predicted respiration rate fmol O2/hr & lower bound & upper bound\\\\\n",
       "\\hline\n",
       "\t1 & 0.004610479 & 0.0007517834 & 0.02827479\\\\\n",
       "\t2 & 0.063355520 & 0.0104689014 & 0.38341387\\\\\n",
       "\t3 & 0.004334556 & 0.0007061226 & 0.02660781\\\\\n",
       "\t4 & 0.019319810 & 0.0031941231 & 0.11685682\\\\\n",
       "\t5 & 0.007374604 & 0.0012100522 & 0.04494416\\\\\n",
       "\t6 & 0.007733978 & 0.0012697059 & 0.04710888\\\\\n",
       "\\end{tabular}\n"
      ],
      "text/markdown": [
       "\n",
       "A matrix: 6 × 3 of type dbl\n",
       "\n",
       "| <!--/--> | Predicted respiration rate fmol O2/hr | lower bound | upper bound |\n",
       "|---|---|---|---|\n",
       "| 1 | 0.004610479 | 0.0007517834 | 0.02827479 |\n",
       "| 2 | 0.063355520 | 0.0104689014 | 0.38341387 |\n",
       "| 3 | 0.004334556 | 0.0007061226 | 0.02660781 |\n",
       "| 4 | 0.019319810 | 0.0031941231 | 0.11685682 |\n",
       "| 5 | 0.007374604 | 0.0012100522 | 0.04494416 |\n",
       "| 6 | 0.007733978 | 0.0012697059 | 0.04710888 |\n",
       "\n"
      ],
      "text/plain": [
       "  Predicted respiration rate fmol O2/hr lower bound  upper bound\n",
       "1 0.004610479                           0.0007517834 0.02827479 \n",
       "2 0.063355520                           0.0104689014 0.38341387 \n",
       "3 0.004334556                           0.0007061226 0.02660781 \n",
       "4 0.019319810                           0.0031941231 0.11685682 \n",
       "5 0.007374604                           0.0012100522 0.04494416 \n",
       "6 0.007733978                           0.0012697059 0.04710888 "
      ]
     },
     "metadata": {},
     "output_type": "display_data"
    },
    {
     "data": {
      "text/html": [
       "<table class=\"dataframe\">\n",
       "<caption>A data.frame: 6 × 43</caption>\n",
       "<thead>\n",
       "\t<tr><th></th><th scope=col>X2</th><th scope=col>name</th><th scope=col>Plate</th><th scope=col>well_type</th><th scope=col>wga_cp</th><th scope=col>wgs_run_id</th><th scope=col>raw_read_count</th><th scope=col>final_assembly_length</th><th scope=col>max_contig_length</th><th scope=col>gc_content</th><th scope=col>⋯</th><th scope=col>FACS_date</th><th scope=col>gate</th><th scope=col>depth..m.</th><th scope=col>sample</th><th scope=col>slope</th><th scope=col>intercept</th><th scope=col>normalized_531_value</th><th scope=col>Predicted_respiration_rate_fmol_O2perhr</th><th scope=col>lower_resp_bound</th><th scope=col>upper_resp_bound</th></tr>\n",
       "\t<tr><th></th><th scope=col>&lt;fct&gt;</th><th scope=col>&lt;fct&gt;</th><th scope=col>&lt;fct&gt;</th><th scope=col>&lt;fct&gt;</th><th scope=col>&lt;fct&gt;</th><th scope=col>&lt;fct&gt;</th><th scope=col>&lt;int&gt;</th><th scope=col>&lt;int&gt;</th><th scope=col>&lt;int&gt;</th><th scope=col>&lt;dbl&gt;</th><th scope=col>⋯</th><th scope=col>&lt;int&gt;</th><th scope=col>&lt;fct&gt;</th><th scope=col>&lt;fct&gt;</th><th scope=col>&lt;fct&gt;</th><th scope=col>&lt;dbl&gt;</th><th scope=col>&lt;dbl&gt;</th><th scope=col>&lt;dbl&gt;</th><th scope=col>&lt;dbl&gt;</th><th scope=col>&lt;dbl&gt;</th><th scope=col>&lt;dbl&gt;</th></tr>\n",
       "</thead>\n",
       "<tbody>\n",
       "\t<tr><th scope=row>1</th><td>A01</td><td>AH-135-A01</td><td>AH-135</td><td>1 cell</td><td>2.131257507</td><td>170717_NB502014_0032_AHMHYCAFXX</td><td> 428328</td><td> 378833</td><td> 26163</td><td>29.81076</td><td>⋯</td><td>170412</td><td>Respiring cells (RSG-positive)</td><td>1meter</td><td>AH-135-A01</td><td>0.10985</td><td>0.18027</td><td> 0.759412</td><td>0.004610479</td><td>0.0007517834</td><td>0.02827479</td></tr>\n",
       "\t<tr><th scope=row>2</th><td>A02</td><td>AH-135-A02</td><td>AH-135</td><td>1 cell</td><td>1.460275237</td><td>AH-135                         </td><td>2502502</td><td>1800737</td><td>167471</td><td>36.02519</td><td>⋯</td><td>170412</td><td>Respiring cells (RSG-positive)</td><td>1meter</td><td>AH-135-A02</td><td>0.10985</td><td>0.18027</td><td>14.253900</td><td>0.063355520</td><td>0.0104689014</td><td>0.38341387</td></tr>\n",
       "\t<tr><th scope=row>3</th><td>A03</td><td>AH-135-A03</td><td>AH-135</td><td>1 cell</td><td>1.607216558</td><td>AH-135                         </td><td>3997827</td><td> 856845</td><td> 84808</td><td>32.01186</td><td>⋯</td><td>170412</td><td>Respiring cells (RSG-positive)</td><td>1meter</td><td>AH-135-A03</td><td>0.10985</td><td>0.18027</td><td> 0.441609</td><td>0.004334556</td><td>0.0007061226</td><td>0.02660781</td></tr>\n",
       "\t<tr><th scope=row>4</th><td>A04</td><td>AH-135-A04</td><td>AH-135</td><td>1 cell</td><td>1.497029617</td><td>AH-135                         </td><td>3618815</td><td>1481697</td><td>223427</td><td>36.51590</td><td>⋯</td><td>170412</td><td>Respiring cells (RSG-positive)</td><td>1meter</td><td>AH-135-A04</td><td>0.10985</td><td>0.18027</td><td> 8.137930</td><td>0.019319810</td><td>0.0031941231</td><td>0.11685682</td></tr>\n",
       "\t<tr><th scope=row>5</th><td>A05</td><td>AH-135-A05</td><td>AH-135</td><td>1 cell</td><td>1.905231842</td><td>170717_NB502014_0032_AHMHYCAFXX</td><td> 664796</td><td> 382026</td><td> 35013</td><td>34.99081</td><td>⋯</td><td>170412</td><td>Respiring cells (RSG-positive)</td><td>1meter</td><td>AH-135-A05</td><td>0.10985</td><td>0.18027</td><td> 3.178290</td><td>0.007374604</td><td>0.0012100522</td><td>0.04494416</td></tr>\n",
       "\t<tr><th scope=row>6</th><td>A06</td><td>AH-135-A06</td><td>AH-135</td><td>1 cell</td><td>1.695323282</td><td>AH-135                         </td><td>5576767</td><td>1127973</td><td>100196</td><td>37.62847</td><td>⋯</td><td>170412</td><td>Respiring cells (RSG-positive)</td><td>1meter</td><td>          </td><td>0.10985</td><td>0.18027</td><td> 3.423320</td><td>0.007733978</td><td>0.0012697059</td><td>0.04710888</td></tr>\n",
       "</tbody>\n",
       "</table>\n"
      ],
      "text/latex": [
       "A data.frame: 6 × 43\n",
       "\\begin{tabular}{r|lllllllllllllllllllll}\n",
       "  & X2 & name & Plate & well\\_type & wga\\_cp & wgs\\_run\\_id & raw\\_read\\_count & final\\_assembly\\_length & max\\_contig\\_length & gc\\_content & ⋯ & FACS\\_date & gate & depth..m. & sample & slope & intercept & normalized\\_531\\_value & Predicted\\_respiration\\_rate\\_fmol\\_O2perhr & lower\\_resp\\_bound & upper\\_resp\\_bound\\\\\n",
       "  & <fct> & <fct> & <fct> & <fct> & <fct> & <fct> & <int> & <int> & <int> & <dbl> & ⋯ & <int> & <fct> & <fct> & <fct> & <dbl> & <dbl> & <dbl> & <dbl> & <dbl> & <dbl>\\\\\n",
       "\\hline\n",
       "\t1 & A01 & AH-135-A01 & AH-135 & 1 cell & 2.131257507 & 170717\\_NB502014\\_0032\\_AHMHYCAFXX &  428328 &  378833 &  26163 & 29.81076 & ⋯ & 170412 & Respiring cells (RSG-positive) & 1meter & AH-135-A01 & 0.10985 & 0.18027 &  0.759412 & 0.004610479 & 0.0007517834 & 0.02827479\\\\\n",
       "\t2 & A02 & AH-135-A02 & AH-135 & 1 cell & 1.460275237 & AH-135                          & 2502502 & 1800737 & 167471 & 36.02519 & ⋯ & 170412 & Respiring cells (RSG-positive) & 1meter & AH-135-A02 & 0.10985 & 0.18027 & 14.253900 & 0.063355520 & 0.0104689014 & 0.38341387\\\\\n",
       "\t3 & A03 & AH-135-A03 & AH-135 & 1 cell & 1.607216558 & AH-135                          & 3997827 &  856845 &  84808 & 32.01186 & ⋯ & 170412 & Respiring cells (RSG-positive) & 1meter & AH-135-A03 & 0.10985 & 0.18027 &  0.441609 & 0.004334556 & 0.0007061226 & 0.02660781\\\\\n",
       "\t4 & A04 & AH-135-A04 & AH-135 & 1 cell & 1.497029617 & AH-135                          & 3618815 & 1481697 & 223427 & 36.51590 & ⋯ & 170412 & Respiring cells (RSG-positive) & 1meter & AH-135-A04 & 0.10985 & 0.18027 &  8.137930 & 0.019319810 & 0.0031941231 & 0.11685682\\\\\n",
       "\t5 & A05 & AH-135-A05 & AH-135 & 1 cell & 1.905231842 & 170717\\_NB502014\\_0032\\_AHMHYCAFXX &  664796 &  382026 &  35013 & 34.99081 & ⋯ & 170412 & Respiring cells (RSG-positive) & 1meter & AH-135-A05 & 0.10985 & 0.18027 &  3.178290 & 0.007374604 & 0.0012100522 & 0.04494416\\\\\n",
       "\t6 & A06 & AH-135-A06 & AH-135 & 1 cell & 1.695323282 & AH-135                          & 5576767 & 1127973 & 100196 & 37.62847 & ⋯ & 170412 & Respiring cells (RSG-positive) & 1meter &            & 0.10985 & 0.18027 &  3.423320 & 0.007733978 & 0.0012697059 & 0.04710888\\\\\n",
       "\\end{tabular}\n"
      ],
      "text/markdown": [
       "\n",
       "A data.frame: 6 × 43\n",
       "\n",
       "| <!--/--> | X2 &lt;fct&gt; | name &lt;fct&gt; | Plate &lt;fct&gt; | well_type &lt;fct&gt; | wga_cp &lt;fct&gt; | wgs_run_id &lt;fct&gt; | raw_read_count &lt;int&gt; | final_assembly_length &lt;int&gt; | max_contig_length &lt;int&gt; | gc_content &lt;dbl&gt; | ⋯ ⋯ | FACS_date &lt;int&gt; | gate &lt;fct&gt; | depth..m. &lt;fct&gt; | sample &lt;fct&gt; | slope &lt;dbl&gt; | intercept &lt;dbl&gt; | normalized_531_value &lt;dbl&gt; | Predicted_respiration_rate_fmol_O2perhr &lt;dbl&gt; | lower_resp_bound &lt;dbl&gt; | upper_resp_bound &lt;dbl&gt; |\n",
       "|---|---|---|---|---|---|---|---|---|---|---|---|---|---|---|---|---|---|---|---|---|---|\n",
       "| 1 | A01 | AH-135-A01 | AH-135 | 1 cell | 2.131257507 | 170717_NB502014_0032_AHMHYCAFXX |  428328 |  378833 |  26163 | 29.81076 | ⋯ | 170412 | Respiring cells (RSG-positive) | 1meter | AH-135-A01 | 0.10985 | 0.18027 |  0.759412 | 0.004610479 | 0.0007517834 | 0.02827479 |\n",
       "| 2 | A02 | AH-135-A02 | AH-135 | 1 cell | 1.460275237 | AH-135                          | 2502502 | 1800737 | 167471 | 36.02519 | ⋯ | 170412 | Respiring cells (RSG-positive) | 1meter | AH-135-A02 | 0.10985 | 0.18027 | 14.253900 | 0.063355520 | 0.0104689014 | 0.38341387 |\n",
       "| 3 | A03 | AH-135-A03 | AH-135 | 1 cell | 1.607216558 | AH-135                          | 3997827 |  856845 |  84808 | 32.01186 | ⋯ | 170412 | Respiring cells (RSG-positive) | 1meter | AH-135-A03 | 0.10985 | 0.18027 |  0.441609 | 0.004334556 | 0.0007061226 | 0.02660781 |\n",
       "| 4 | A04 | AH-135-A04 | AH-135 | 1 cell | 1.497029617 | AH-135                          | 3618815 | 1481697 | 223427 | 36.51590 | ⋯ | 170412 | Respiring cells (RSG-positive) | 1meter | AH-135-A04 | 0.10985 | 0.18027 |  8.137930 | 0.019319810 | 0.0031941231 | 0.11685682 |\n",
       "| 5 | A05 | AH-135-A05 | AH-135 | 1 cell | 1.905231842 | 170717_NB502014_0032_AHMHYCAFXX |  664796 |  382026 |  35013 | 34.99081 | ⋯ | 170412 | Respiring cells (RSG-positive) | 1meter | AH-135-A05 | 0.10985 | 0.18027 |  3.178290 | 0.007374604 | 0.0012100522 | 0.04494416 |\n",
       "| 6 | A06 | AH-135-A06 | AH-135 | 1 cell | 1.695323282 | AH-135                          | 5576767 | 1127973 | 100196 | 37.62847 | ⋯ | 170412 | Respiring cells (RSG-positive) | 1meter | <!----> | 0.10985 | 0.18027 |  3.423320 | 0.007733978 | 0.0012697059 | 0.04710888 |\n",
       "\n"
      ],
      "text/plain": [
       "  X2  name       Plate  well_type wga_cp      wgs_run_id                     \n",
       "1 A01 AH-135-A01 AH-135 1 cell    2.131257507 170717_NB502014_0032_AHMHYCAFXX\n",
       "2 A02 AH-135-A02 AH-135 1 cell    1.460275237 AH-135                         \n",
       "3 A03 AH-135-A03 AH-135 1 cell    1.607216558 AH-135                         \n",
       "4 A04 AH-135-A04 AH-135 1 cell    1.497029617 AH-135                         \n",
       "5 A05 AH-135-A05 AH-135 1 cell    1.905231842 170717_NB502014_0032_AHMHYCAFXX\n",
       "6 A06 AH-135-A06 AH-135 1 cell    1.695323282 AH-135                         \n",
       "  raw_read_count final_assembly_length max_contig_length gc_content ⋯ FACS_date\n",
       "1  428328         378833                26163            29.81076   ⋯ 170412   \n",
       "2 2502502        1800737               167471            36.02519   ⋯ 170412   \n",
       "3 3997827         856845                84808            32.01186   ⋯ 170412   \n",
       "4 3618815        1481697               223427            36.51590   ⋯ 170412   \n",
       "5  664796         382026                35013            34.99081   ⋯ 170412   \n",
       "6 5576767        1127973               100196            37.62847   ⋯ 170412   \n",
       "  gate                           depth..m. sample     slope   intercept\n",
       "1 Respiring cells (RSG-positive) 1meter    AH-135-A01 0.10985 0.18027  \n",
       "2 Respiring cells (RSG-positive) 1meter    AH-135-A02 0.10985 0.18027  \n",
       "3 Respiring cells (RSG-positive) 1meter    AH-135-A03 0.10985 0.18027  \n",
       "4 Respiring cells (RSG-positive) 1meter    AH-135-A04 0.10985 0.18027  \n",
       "5 Respiring cells (RSG-positive) 1meter    AH-135-A05 0.10985 0.18027  \n",
       "6 Respiring cells (RSG-positive) 1meter               0.10985 0.18027  \n",
       "  normalized_531_value Predicted_respiration_rate_fmol_O2perhr lower_resp_bound\n",
       "1  0.759412            0.004610479                             0.0007517834    \n",
       "2 14.253900            0.063355520                             0.0104689014    \n",
       "3  0.441609            0.004334556                             0.0007061226    \n",
       "4  8.137930            0.019319810                             0.0031941231    \n",
       "5  3.178290            0.007374604                             0.0012100522    \n",
       "6  3.423320            0.007733978                             0.0012697059    \n",
       "  upper_resp_bound\n",
       "1 0.02827479      \n",
       "2 0.38341387      \n",
       "3 0.02660781      \n",
       "4 0.11685682      \n",
       "5 0.04494416      \n",
       "6 0.04710888      "
      ]
     },
     "metadata": {},
     "output_type": "display_data"
    }
   ],
   "source": [
    "\n",
    "\n",
    "pred_resp_CIP <- 10^predict(object=modL,newdata=rsg_vals,interval=\"prediction\")\n",
    "colnames(pred_resp_CIP) <- c(\"Predicted respiration rate fmol O2/hr\",\"lower bound\",\"upper bound\")\n",
    "head(pred_resp_CIP)\n",
    "\n",
    "sagvals$Predicted_respiration_rate_fmol_O2perhr[keep] <- pred_resp_CIP[,1]\n",
    "sagvals$lower_resp_bound[keep] <- pred_resp_CIP[,2]\n",
    "sagvals$upper_resp_bound[keep] <- pred_resp_CIP[,3]\n",
    "write.csv(sagvals, file = \"/mnt/scgc/simon/microg2p/analyses/20210325_GoM_recluster/Summary_files/All_GoM_SAGs_1cell_20kb_decon_531normalized_predresp_rate.csv\",\n",
    "         row.names=FALSE) # Save for records\n",
    "\n",
    "head(sagvals)"
   ]
  },
  {
   "cell_type": "code",
   "execution_count": 22,
   "metadata": {},
   "outputs": [
    {
     "data": {
      "text/html": [
       "<table class=\"dataframe\">\n",
       "<caption>A data.frame: 6 × 3</caption>\n",
       "<thead>\n",
       "\t<tr><th></th><th scope=col>fit</th><th scope=col>lwr</th><th scope=col>upr</th></tr>\n",
       "\t<tr><th></th><th scope=col>&lt;dbl&gt;</th><th scope=col>&lt;dbl&gt;</th><th scope=col>&lt;dbl&gt;</th></tr>\n",
       "</thead>\n",
       "<tbody>\n",
       "\t<tr><th scope=row>1</th><td>-2.283917</td><td>-2.413487</td><td>-2.154346</td></tr>\n",
       "\t<tr><th scope=row>2</th><td>-1.142337</td><td>-1.241939</td><td>-1.042735</td></tr>\n",
       "\t<tr><th scope=row>3</th><td>-2.310802</td><td>-2.442254</td><td>-2.179349</td></tr>\n",
       "\t<tr><th scope=row>4</th><td>-1.659724</td><td>-1.757934</td><td>-1.561513</td></tr>\n",
       "\t<tr><th scope=row>5</th><td>-2.079289</td><td>-2.195677</td><td>-1.962902</td></tr>\n",
       "\t<tr><th scope=row>6</th><td>-2.058561</td><td>-2.173742</td><td>-1.943380</td></tr>\n",
       "</tbody>\n",
       "</table>\n"
      ],
      "text/latex": [
       "A data.frame: 6 × 3\n",
       "\\begin{tabular}{r|lll}\n",
       "  & fit & lwr & upr\\\\\n",
       "  & <dbl> & <dbl> & <dbl>\\\\\n",
       "\\hline\n",
       "\t1 & -2.283917 & -2.413487 & -2.154346\\\\\n",
       "\t2 & -1.142337 & -1.241939 & -1.042735\\\\\n",
       "\t3 & -2.310802 & -2.442254 & -2.179349\\\\\n",
       "\t4 & -1.659724 & -1.757934 & -1.561513\\\\\n",
       "\t5 & -2.079289 & -2.195677 & -1.962902\\\\\n",
       "\t6 & -2.058561 & -2.173742 & -1.943380\\\\\n",
       "\\end{tabular}\n"
      ],
      "text/markdown": [
       "\n",
       "A data.frame: 6 × 3\n",
       "\n",
       "| <!--/--> | fit &lt;dbl&gt; | lwr &lt;dbl&gt; | upr &lt;dbl&gt; |\n",
       "|---|---|---|---|\n",
       "| 1 | -2.283917 | -2.413487 | -2.154346 |\n",
       "| 2 | -1.142337 | -1.241939 | -1.042735 |\n",
       "| 3 | -2.310802 | -2.442254 | -2.179349 |\n",
       "| 4 | -1.659724 | -1.757934 | -1.561513 |\n",
       "| 5 | -2.079289 | -2.195677 | -1.962902 |\n",
       "| 6 | -2.058561 | -2.173742 | -1.943380 |\n",
       "\n"
      ],
      "text/plain": [
       "  fit       lwr       upr      \n",
       "1 -2.283917 -2.413487 -2.154346\n",
       "2 -1.142337 -1.241939 -1.042735\n",
       "3 -2.310802 -2.442254 -2.179349\n",
       "4 -1.659724 -1.757934 -1.561513\n",
       "5 -2.079289 -2.195677 -1.962902\n",
       "6 -2.058561 -2.173742 -1.943380"
      ]
     },
     "metadata": {},
     "output_type": "display_data"
    }
   ],
   "source": [
    "\n",
    "\n",
    "confidence_rsg <- as.data.frame(predict(lm(log10(resp) ~ rsg_gm, data = reg_dat), rsg_vals, interval=c(\"confidence\"))) #rsg_vals is the new data from the sorted SAGs\n",
    "head(confidence_rsg)\n",
    "write.csv(confidence_rsg, file = \"GoM_Sags_Confidence.csv\") # Save for records"
   ]
  },
  {
   "cell_type": "code",
   "execution_count": 23,
   "metadata": {},
   "outputs": [
    {
     "ename": "ERROR",
     "evalue": "Error in ggplot(., aes(x = rsg_vals$rsg_gm, y = predicted_rsg$fit)): object 'predicted_rsg' not found\n",
     "output_type": "error",
     "traceback": [
      "Error in ggplot(., aes(x = rsg_vals$rsg_gm, y = predicted_rsg$fit)): object 'predicted_rsg' not found\nTraceback:\n",
      "1. predicted_rsg %>% ggplot(aes(x = rsg_vals$rsg_gm, y = predicted_rsg$fit))",
      "2. ggplot(., aes(x = rsg_vals$rsg_gm, y = predicted_rsg$fit))"
     ]
    }
   ],
   "source": [
    "\n",
    "\n",
    "#Plot sorted sag RSG data with predictive interval. Verticle lines denote RSG values of pure cultures\n",
    "\n",
    "datpre_lm <- predicted_rsg %>%\n",
    "ggplot(aes(x = rsg_vals$rsg_gm, y = predicted_rsg$fit)) +\n",
    "geom_point() +\n",
    "aes(ymin=lwr) +\n",
    "aes(ymax=upr) +\n",
    "geom_ribbon(alpha=0.1) +\n",
    "geom_vline(xintercept = 35, linetype=\"solid\", color=\"red\", size = 1) + # upper limit of pure culture RSG values \n",
    "geom_vline(xintercept = 0.63, linetype=\"solid\", color=\"red\", size = 1)# lower limit of pure culture RSG values\n",
    "#stat_smooth(method = \"lm\", col = \"red\") # Regression line removed\n",
    "datpre_lm"
   ]
  },
  {
   "cell_type": "code",
   "execution_count": null,
   "metadata": {},
   "outputs": [],
   "source": []
  }
 ],
 "metadata": {
  "kernelspec": {
   "display_name": "R",
   "language": "R",
   "name": "ir"
  },
  "language_info": {
   "codemirror_mode": "r",
   "file_extension": ".r",
   "mimetype": "text/x-r-source",
   "name": "R",
   "pygments_lexer": "r",
   "version": "3.5.1"
  }
 },
 "nbformat": 4,
 "nbformat_minor": 4
}
